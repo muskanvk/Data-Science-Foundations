{
 "cells": [
  {
   "cell_type": "markdown",
   "metadata": {},
   "source": [
    "## Day13 - Data Manipulation using Pandas - Part1\n",
    "\n",
    "- Pandas is an open-source Python Library providing high-performance data manipulation and analysis tool using its powerful data structures.\n",
    "\n",
    "##### Note: \n",
    "1. First Clean the Evironment (Go to \"Kernel\" Menu --> \"Restart & Clean Output\"\n",
    "2. To execute the code --> Click on a cell and press cntrl + enter key\n"
   ]
  },
  {
   "cell_type": "markdown",
   "metadata": {},
   "source": [
    "## Key Features of Pandas\n",
    "- Fast and efficient DataFrame object with default and customized indexing.\n",
    "- Tools for loading data into in-memory data objects from different file formats.\n",
    "- Data alignment and integrated handling of missing data.\n",
    "- Reshaping and pivoting of date sets.\n",
    "- Label-based slicing, indexing and subsetting of large data sets.\n",
    "- Columns from a data structure can be deleted or inserted.\n",
    "- Group by data for aggregation and transformations.\n",
    "- High performance merging and joining of data.\n",
    "- Time Series functionality.\n"
   ]
  },
  {
   "cell_type": "markdown",
   "metadata": {},
   "source": [
    "## 1. Import pandas library"
   ]
  },
  {
   "cell_type": "code",
   "execution_count": null,
   "metadata": {},
   "outputs": [],
   "source": [
    "#This command imports all the methods related to pandas.\n",
    "\n",
    "import pandas as pd\n"
   ]
  },
  {
   "cell_type": "markdown",
   "metadata": {},
   "source": [
    "## 2. Working with Series\n",
    "\n",
    "- Series is a one-dimensional labeled array"
   ]
  },
  {
   "cell_type": "markdown",
   "metadata": {},
   "source": [
    "### 2.1 Create a series using list"
   ]
  },
  {
   "cell_type": "code",
   "execution_count": null,
   "metadata": {},
   "outputs": [],
   "source": [
    "import pandas as pd\n",
    "\n",
    "a1 = [1, 3, 5, 7, 9, 2, 4, 6, 8]\n",
    "a2 = pd.Series(a1)\n",
    "\n",
    "print(a2)\n"
   ]
  },
  {
   "cell_type": "markdown",
   "metadata": {},
   "source": [
    "### 2.2 A series has been created with data along with it's Index"
   ]
  },
  {
   "cell_type": "code",
   "execution_count": null,
   "metadata": {
    "scrolled": false
   },
   "outputs": [],
   "source": [
    "import pandas as pd\n",
    "\n",
    "a1 = [1, 3, 5, 7, 9, 2, 4, 6, 8]\n",
    "a2 = ['a','b','c','d','e','f','g','h','i']\n",
    "a3 = pd.Series(a1, a2)\n",
    "print(a3)\n",
    "\n",
    "## Access the data in series\n",
    "print ('\\n--------------')\n",
    "print (\"a3['b'] -->\",a3['b'])\n",
    "print (\"a3['i'] -->\",a3['i'])\n",
    "\n",
    "#Try this Also: Uncomment and run it\n",
    "#a3 = pd.Series(a2, a1)\n",
    "#print(a3)\n"
   ]
  },
  {
   "cell_type": "markdown",
   "metadata": {},
   "source": [
    "### 2.3 Creating a series using dictionary"
   ]
  },
  {
   "cell_type": "code",
   "execution_count": null,
   "metadata": {
    "scrolled": true
   },
   "outputs": [],
   "source": [
    "import pandas as pd\n",
    "\n",
    "d1 = {'Oranges':3, 'Apples':4, 'Mangoes':2, 'Banana':12}\n",
    "d2 = pd.Series(d1)\n",
    "\n",
    "print (d2)\n",
    "print (type(d2))"
   ]
  },
  {
   "cell_type": "markdown",
   "metadata": {},
   "source": [
    "### 2.4 Creating a series using nested list"
   ]
  },
  {
   "cell_type": "code",
   "execution_count": null,
   "metadata": {},
   "outputs": [],
   "source": [
    "import pandas as pd\n",
    "\n",
    "a1 = [[1,3,5],[2,4,6]]\n",
    "a2 = pd.Series(a1)\n",
    "\n",
    "print (a2)"
   ]
  },
  {
   "cell_type": "markdown",
   "metadata": {},
   "source": [
    "## 3. DataFrames\n",
    "- DataFrames are 2 dimensional data structure which has rows and columns."
   ]
  },
  {
   "cell_type": "markdown",
   "metadata": {},
   "source": [
    "### 3.1 Creating a data frame using dictionary"
   ]
  },
  {
   "cell_type": "code",
   "execution_count": null,
   "metadata": {},
   "outputs": [],
   "source": [
    "import pandas as pd\n",
    "\n",
    "d1 = {'Age':[23,33,12,45],'Name':['Rahul','John','Robert','Sneha']}\n",
    "d2 = pd.DataFrame(d1)\n",
    "\n",
    "print(d2)\n"
   ]
  },
  {
   "cell_type": "markdown",
   "metadata": {},
   "source": [
    "### 3.2 Creating a data frame using nested list"
   ]
  },
  {
   "cell_type": "code",
   "execution_count": null,
   "metadata": {},
   "outputs": [],
   "source": [
    "import pandas as pd\n",
    "\n",
    "d1 = [[4,1900],[3,1600],[2,1100],[1,850]]\n",
    "d2 = pd.DataFrame(d1, columns = ['Bedrooms','Area'])\n",
    "\n",
    "print (d2)\n"
   ]
  },
  {
   "cell_type": "markdown",
   "metadata": {},
   "source": [
    "### 3.3 Assigning indexes within a data frame"
   ]
  },
  {
   "cell_type": "code",
   "execution_count": null,
   "metadata": {},
   "outputs": [],
   "source": [
    "import pandas as pd\n",
    "\n",
    "d1 = {'Name':['Ankit','Rishitha','Karthik','Vishnu'],'Marks':[78,67,98,56]}\n",
    "d2 = pd.DataFrame(d1,index = ['Rank 2','Rank 3','Rank 1','Rank 4'])\n",
    "\n",
    "print (d2)\n"
   ]
  },
  {
   "cell_type": "markdown",
   "metadata": {},
   "source": [
    "### 3.4 Creating data frame using list of dictionaries"
   ]
  },
  {
   "cell_type": "code",
   "execution_count": null,
   "metadata": {},
   "outputs": [],
   "source": [
    "import pandas as pd\n",
    "\n",
    "d1 = [{'A':65,'B':66},{'A':97,'B':98,'C':99}]\n",
    "d2 = pd.DataFrame(d1)\n",
    "\n",
    "print (d2)\n"
   ]
  },
  {
   "cell_type": "markdown",
   "metadata": {},
   "source": [
    "### 3.5 Creating data frame using timestamp and categorical.\n",
    "- Generate random dataset "
   ]
  },
  {
   "cell_type": "code",
   "execution_count": null,
   "metadata": {},
   "outputs": [],
   "source": [
    "#import numpy as np\n",
    "import pandas as pd\n",
    "import random as r\n",
    "\n",
    "d1 = pd.DataFrame({'A':range(1,5), \n",
    "                      'B':pd.Timestamp('20190305'),\n",
    "                      'C':[r.randint(10,20) for i in range(4)],\n",
    "                      'D':pd.Categorical([\"Test\",\"Train\",\"Car\",\"Bike\"]),\n",
    "                      'E':'Hello',\n",
    "                      'F':1})\n",
    "print(d1)\n"
   ]
  },
  {
   "cell_type": "code",
   "execution_count": null,
   "metadata": {},
   "outputs": [],
   "source": [
    "d1.describe()  # Only Numeric columns are selected"
   ]
  },
  {
   "cell_type": "markdown",
   "metadata": {},
   "source": [
    "### 3.4 Accessing data from dataset - Part 1"
   ]
  },
  {
   "cell_type": "code",
   "execution_count": null,
   "metadata": {},
   "outputs": [],
   "source": [
    "type(d1)\n",
    "\n",
    "#d1[]      # Error\n",
    "#d1[1]     # Error\n",
    "#d1[1,]    # Error\n",
    "\n",
    "#d1[:]      # No Error; Show all rows\n",
    "#d1[1:4]    # No Error; Show all rows starting from 1\n",
    "#d1[0,2,3]  # Error\n",
    "#d1[:,]     # Error\n",
    "\n",
    "#d1[:]['A']       # No Error; Select All rows of Column A\n",
    "#d1[:]['A','B']   # Error; Select All rows of Column A and Colun B\n",
    "#d1[:][['A','B']] # No Error; Select All rows of Column A and Colun B\n"
   ]
  },
  {
   "cell_type": "markdown",
   "metadata": {},
   "source": [
    "### 3.5 Accessing data from dataset - Part 2 (using loc - Column Names)"
   ]
  },
  {
   "cell_type": "code",
   "execution_count": null,
   "metadata": {},
   "outputs": [],
   "source": [
    "d1\n",
    "#d1.loc[]                     # Error\n",
    "#d1.loc[,]                    # Error\n",
    "#d1.loc[:,]                   # show all rows of all columns\n",
    "#d1.loc[:,[]]                 # show all index; No Value\n",
    "\n",
    "# Syntax --> loc[ ROW, COL_Names_in_List ]\n",
    "\n",
    "#d1.loc[:,['A','B','D']]      # show all rows of A, B, C columns\n",
    "#d1.loc[:,]                   # show all rows of all columns\n",
    "#d1.loc[,]                    # Error\n",
    "\n",
    "#d1.loc[2: , ['A','B','D']]   # show rows from 2 to end of A, B, D columns\n",
    "#d1.loc[2:,]                  # show rows from 2 to end of all columns\n",
    "#d1.loc[1:3,]                 # show rows from 1 to 3 of all columns\n",
    "#d1.loc[1:3, ['A','B','D']]   # show rows from 1 to 3 of A, B, D columns\n"
   ]
  },
  {
   "cell_type": "markdown",
   "metadata": {},
   "source": [
    "### 3.6 Accessing data from dataset - Part 3 (using iloc - Column position)"
   ]
  },
  {
   "cell_type": "code",
   "execution_count": null,
   "metadata": {},
   "outputs": [],
   "source": [
    "d1\n",
    "\n",
    "# Syntax --> iloc[ ROW, COL_Position]\n",
    "\n",
    "#d1.iloc[:,1,2,3]              # Error\n",
    "#d1.iloc[:,[1,2,3]]            # show all rows of 1, 2, 3 columns\n",
    "#d1.iloc[:,]                   # show all rows of all columns\n",
    "#d1.iloc[,]                    # Error\n",
    "\n",
    "#d1.iloc[2:, [0,1,3]]          # show rows from 2 to end of 0, 1, 3 columns\n",
    "#d1.iloc[2:,]                  # show rows from 2 to end of all columns\n",
    "#d1.iloc[1:3,]                 # show rows from 1 to 3 of all columns\n",
    "#d1.iloc[1:3, [0,1]]           # show rows from 1 to 3 of 0, 1 columns\n",
    "#d1.iloc[1:3, :5]              # show rows from 1 to 3 of 0-4columns\n",
    "#d1.iloc[1:3, 1:5]             # show rows from 1 to 3 of 1-4 columns\n",
    "#d1.iloc[1:3, :-2]             # show rows from 1 to 3 of 0 to 2nd last columns"
   ]
  }
 ],
 "metadata": {
  "kernelspec": {
   "display_name": "Python 3",
   "language": "python",
   "name": "python3"
  },
  "language_info": {
   "codemirror_mode": {
    "name": "ipython",
    "version": 3
   },
   "file_extension": ".py",
   "mimetype": "text/x-python",
   "name": "python",
   "nbconvert_exporter": "python",
   "pygments_lexer": "ipython3",
   "version": "3.8.3"
  }
 },
 "nbformat": 4,
 "nbformat_minor": 2
}
