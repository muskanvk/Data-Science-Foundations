{
 "cells": [
  {
   "cell_type": "markdown",
   "metadata": {
    "colab_type": "text",
    "id": "eaNq4Gmi9Qic"
   },
   "source": [
    "## Basics Of Python - Part 2 (Loops, Functions, Math Library)\n",
    "#### Topics\n",
    "1. While Loop\n",
    "2. For Loop\n",
    "3. Functions\n",
    "4. Math Library\n",
    "\n",
    "##### Note: \n",
    "1. First Clean the Evironment (Go to \"Kernel\" Menu --> \"Restart & Clean Output\"\n",
    "2. To execute the code --> Click on a cell and press cntrl + enter key"
   ]
  },
  {
   "cell_type": "markdown",
   "metadata": {
    "colab_type": "text",
    "id": "y3VrvYW2-6Ka"
   },
   "source": [
    "# 1: While Loop"
   ]
  },
  {
   "cell_type": "markdown",
   "metadata": {
    "colab_type": "text",
    "id": "h4ZAwyCdYJi3"
   },
   "source": [
    "### 1.1: While Loop (print 1 to 10)"
   ]
  },
  {
   "cell_type": "code",
   "execution_count": null,
   "metadata": {
    "colab": {
     "base_uri": "https://localhost:8080/",
     "height": 199
    },
    "colab_type": "code",
    "executionInfo": {
     "elapsed": 2108,
     "status": "ok",
     "timestamp": 1598791181031,
     "user": {
      "displayName": "Prashant Singh Rana",
      "photoUrl": "https://lh3.googleusercontent.com/a-/AOh14GgpuxtZJ6RIcH1_f9LC0aMOY_RQ3-IRDbVsjEbN9g=s64",
      "userId": "12245731978561464083"
     },
     "user_tz": -330
    },
    "id": "eikxCFcN-7AR",
    "outputId": "b397ab3e-6f30-4abb-9c66-69fd2b16f9a5"
   },
   "outputs": [],
   "source": [
    "#------------------------------------------------------------------------\n",
    "# 1.1: While Loop (print 1 to 10)\n",
    "#------------------------------------------------------------------------\n",
    "i = 1\n",
    "while i <= 10:\n",
    "    print (i)\n",
    "    i = i + 1\n"
   ]
  },
  {
   "cell_type": "markdown",
   "metadata": {
    "colab_type": "text",
    "id": "QAHkRiyLYJjL"
   },
   "source": [
    "### 1.2: While Loop (print 10 to 1)"
   ]
  },
  {
   "cell_type": "code",
   "execution_count": null,
   "metadata": {
    "colab": {},
    "colab_type": "code",
    "id": "cWroLJAwYJjN"
   },
   "outputs": [],
   "source": [
    "#------------------------------------------------------------------------\n",
    "# 1.2: While Loop (print 10 to 1)\n",
    "#------------------------------------------------------------------------\n",
    "i = 10\n",
    "while i > 0:\n",
    "    print (i)\n",
    "    i = i - 1\n"
   ]
  },
  {
   "cell_type": "code",
   "execution_count": null,
   "metadata": {
    "colab": {},
    "colab_type": "code",
    "id": "VkpQYblCYJja"
   },
   "outputs": [],
   "source": [
    "#------------------------------------------------------------------------\n",
    "# 1.2: While Loop (print 10 to 1)\n",
    "#------------------------------------------------------------------------\n",
    "i = 10\n",
    "while (i > 0):\n",
    "    print (i)\n",
    "    i -= 1\n",
    "    x = 80    # With in the loop\n",
    "y = 90        # Out of the loop\n"
   ]
  },
  {
   "cell_type": "markdown",
   "metadata": {
    "colab_type": "text",
    "id": "IaiOvz8a_1XO"
   },
   "source": [
    "# 2: Range Function"
   ]
  },
  {
   "cell_type": "markdown",
   "metadata": {
    "colab_type": "text",
    "id": "0iNhbz_8YJjl"
   },
   "source": [
    "### 2.1: Range Function"
   ]
  },
  {
   "cell_type": "code",
   "execution_count": 1,
   "metadata": {
    "colab": {},
    "colab_type": "code",
    "id": "AK-_2r2BYJjn"
   },
   "outputs": [
    {
     "data": {
      "text/plain": [
       "range(0, 10)"
      ]
     },
     "execution_count": 1,
     "metadata": {},
     "output_type": "execute_result"
    }
   ],
   "source": [
    "#------------------------------------------------------------------------\n",
    "# 2.1: Range Function\n",
    "#------------------------------------------------------------------------\n",
    "range(10)  # No output; Only print function\n"
   ]
  },
  {
   "cell_type": "code",
   "execution_count": 2,
   "metadata": {
    "colab": {},
    "colab_type": "code",
    "id": "ij81b2C3YJj7"
   },
   "outputs": [
    {
     "data": {
      "text/plain": [
       "[0, 1, 2, 3, 4, 5, 6, 7, 8, 9]"
      ]
     },
     "execution_count": 2,
     "metadata": {},
     "output_type": "execute_result"
    }
   ],
   "source": [
    "#------------------------------------------------------------------------\n",
    "# 2.2: Range Function\n",
    "#------------------------------------------------------------------------\n",
    "list(range(10)) # A list will print\n"
   ]
  },
  {
   "cell_type": "code",
   "execution_count": 3,
   "metadata": {
    "colab": {},
    "colab_type": "code",
    "id": "bRMGo5mmYJkE"
   },
   "outputs": [
    {
     "name": "stdout",
     "output_type": "stream",
     "text": [
      "range(10)        --> [0, 1, 2, 3, 4, 5, 6, 7, 8, 9]\n",
      "range(0,20)      --> [0, 1, 2, 3, 4, 5, 6, 7, 8, 9, 10, 11, 12, 13, 14, 15, 16, 17, 18, 19]\n",
      "range(10,20)     --> [10, 11, 12, 13, 14, 15, 16, 17, 18, 19]\n",
      "range(0,20,2)    --> [0, 2, 4, 6, 8, 10, 12, 14, 16, 18]\n",
      "range(-10,-20,2) --> []\n",
      "range(-10,-20,-2)--> [-10, -12, -14, -16, -18]\n"
     ]
    }
   ],
   "source": [
    "#------------------------------------------------------------------------\n",
    "# 2.3: Range Function\n",
    "#------------------------------------------------------------------------\n",
    "print (\"range(10)        -->\", list(range(10)))\n",
    "print (\"range(0,20)      -->\", list(range(0,20)))\n",
    "print (\"range(10,20)     -->\", list(range(10,20)))\n",
    "print (\"range(0,20,2)    -->\", list(range(0,20,2)))\n",
    "print (\"range(-10,-20,2) -->\", list(range(-10,-20,2)))\n",
    "print (\"range(-10,-20,-2)-->\", list(range(-10,-20,-2)))\n"
   ]
  },
  {
   "cell_type": "markdown",
   "metadata": {
    "colab_type": "text",
    "id": "2370SaUuD5C0"
   },
   "source": [
    "# 3: For Loop"
   ]
  },
  {
   "cell_type": "markdown",
   "metadata": {
    "colab_type": "text",
    "id": "Rmv_Y0z2YJkL"
   },
   "source": [
    "### 3.1: For loop (print 1 to 10)"
   ]
  },
  {
   "cell_type": "code",
   "execution_count": 4,
   "metadata": {
    "colab": {},
    "colab_type": "code",
    "id": "WOOKZ9mZYJkN"
   },
   "outputs": [
    {
     "name": "stdout",
     "output_type": "stream",
     "text": [
      "1\n",
      "2\n",
      "3\n",
      "4\n",
      "5\n",
      "6\n",
      "7\n",
      "8\n",
      "9\n",
      "10\n"
     ]
    }
   ],
   "source": [
    "#------------------------------------------------------------------------\n",
    "# 3.1: For loop (print 1 to 10)\n",
    "#------------------------------------------------------------------------\n",
    "for i in range(1,11):\n",
    "    print (i)\n"
   ]
  },
  {
   "cell_type": "markdown",
   "metadata": {
    "colab_type": "text",
    "id": "y-IDdVN8YJkV"
   },
   "source": [
    "### 3.2: For loop (print 1 to 20 with increment of 2)"
   ]
  },
  {
   "cell_type": "code",
   "execution_count": null,
   "metadata": {
    "colab": {},
    "colab_type": "code",
    "id": "aXZkrh_UYJkX"
   },
   "outputs": [],
   "source": [
    "#------------------------------------------------------------------------\n",
    "# 3.2: For loop (print 1 to 20 with increment of 2)\n",
    "#------------------------------------------------------------------------\n",
    "for i in range(1,21,2):\n",
    "    print (i)\n"
   ]
  },
  {
   "cell_type": "markdown",
   "metadata": {
    "colab_type": "text",
    "id": "7LzKJ1lFYJkf"
   },
   "source": [
    "### 3.3: For loop (print 0 to -10)"
   ]
  },
  {
   "cell_type": "code",
   "execution_count": null,
   "metadata": {
    "colab": {},
    "colab_type": "code",
    "id": "HQcy1taGYJkg"
   },
   "outputs": [],
   "source": [
    "#------------------------------------------------------------------------\n",
    "# 3.3: For loop (print 0 to -10)\n",
    "#------------------------------------------------------------------------\n",
    "for i in range(0,-10,1):\n",
    "    print (i)\n",
    "\n",
    "## No Output; Why ??\n"
   ]
  },
  {
   "cell_type": "markdown",
   "metadata": {
    "colab_type": "text",
    "id": "ZmRoAay9YJko"
   },
   "source": [
    "### 3.4: For loop (print 0 to -10)"
   ]
  },
  {
   "cell_type": "code",
   "execution_count": 5,
   "metadata": {
    "colab": {},
    "colab_type": "code",
    "id": "Aozgp5gfYJkp"
   },
   "outputs": [
    {
     "name": "stdout",
     "output_type": "stream",
     "text": [
      "0\n",
      "-1\n",
      "-2\n",
      "-3\n",
      "-4\n",
      "-5\n",
      "-6\n",
      "-7\n",
      "-8\n",
      "-9\n"
     ]
    }
   ],
   "source": [
    "#------------------------------------------------------------------------\n",
    "# 3.4: For loop (print 0 to -10)\n",
    "#------------------------------------------------------------------------\n",
    "for i in range(0,-10,-1):\n",
    "    print (i)\n"
   ]
  },
  {
   "cell_type": "markdown",
   "metadata": {
    "colab_type": "text",
    "id": "22cyR_FwYJkw"
   },
   "source": [
    "### 3.5: Print table of 5"
   ]
  },
  {
   "cell_type": "code",
   "execution_count": null,
   "metadata": {
    "colab": {},
    "colab_type": "code",
    "id": "fZGGEO4QYJky"
   },
   "outputs": [],
   "source": [
    "#------------------------------------------------------------------------\n",
    "# 3.5: Print table of 5\n",
    "#------------------------------------------------------------------------\n",
    "for i in range(1,11):\n",
    "    print (5,\"*\", i , \"=\", i * 5)\n"
   ]
  },
  {
   "cell_type": "markdown",
   "metadata": {
    "colab_type": "text",
    "id": "Lb7vptNzYJk7"
   },
   "source": [
    "###### Assingment: WAP to print the table of n; where n will be given by the user"
   ]
  },
  {
   "cell_type": "markdown",
   "metadata": {
    "colab_type": "text",
    "id": "bBTVziVwYJk7"
   },
   "source": [
    "### 3.6: Sum all numbers from 1 to 10"
   ]
  },
  {
   "cell_type": "code",
   "execution_count": null,
   "metadata": {
    "colab": {},
    "colab_type": "code",
    "id": "N_Lr_N29YJk8"
   },
   "outputs": [],
   "source": [
    "#------------------------------------------------------------------------\n",
    "# 3.6: Sum all numbers from 1 to 10\n",
    "#------------------------------------------------------------------------\n",
    "s = 0\n",
    "for i in range(1,11):\n",
    "    s = s + i\n",
    "print (\"Sum is --> \",s)\n"
   ]
  },
  {
   "cell_type": "markdown",
   "metadata": {
    "colab_type": "text",
    "id": "AnGMMwJeYJlE"
   },
   "source": [
    "### 3.7: Sum all numbers from 1 to 10"
   ]
  },
  {
   "cell_type": "code",
   "execution_count": null,
   "metadata": {
    "colab": {},
    "colab_type": "code",
    "id": "IEcULP63YJlG"
   },
   "outputs": [],
   "source": [
    "#------------------------------------------------------------------------\n",
    "# 3.7: Sum all numbers from 1 to 10\n",
    "#------------------------------------------------------------------------\n",
    "print (\"Sum is --> \", sum(range(1,11)))\n"
   ]
  },
  {
   "cell_type": "markdown",
   "metadata": {
    "colab_type": "text",
    "id": "XBh09F0FYJlM"
   },
   "source": [
    "##### Assingment 3.1: WAP to print the table of 7, 9.\n",
    "##### Assingment 3.2: WAP to print the table of n and n is given by user.\n",
    "##### Assingment 3.3: WAP to add all the numbers from 1 to n and n is given by user."
   ]
  },
  {
   "cell_type": "markdown",
   "metadata": {
    "colab_type": "text",
    "id": "HZmYDmuPYJlk"
   },
   "source": [
    "# 4: Functions"
   ]
  },
  {
   "cell_type": "markdown",
   "metadata": {
    "colab_type": "text",
    "id": "o8SaL0eKYJlq"
   },
   "source": [
    "### 4.1: Add two numbers"
   ]
  },
  {
   "cell_type": "code",
   "execution_count": null,
   "metadata": {
    "colab": {},
    "colab_type": "code",
    "id": "6Ld-isr-YJls"
   },
   "outputs": [],
   "source": [
    "#------------------------------------------------------------------------\t\n",
    "# 4.1: Add two numbers\n",
    "#------------------------------------------------------------------------\n",
    "def Add(a,b):\n",
    "    c = a + b\n",
    "    return c\n",
    "\n",
    "print (\"Add(10,20) -->\", Add(10,20))\n",
    "print (\"Add(20,50) -->\", Add(20,50)) \n",
    "print (\"Add(80,200)-->\", Add(80,200)) \n"
   ]
  },
  {
   "cell_type": "markdown",
   "metadata": {
    "colab_type": "text",
    "id": "DQTWn4XAYJl9"
   },
   "source": [
    "#### 4.2: Add 1 to n"
   ]
  },
  {
   "cell_type": "code",
   "execution_count": null,
   "metadata": {
    "colab": {},
    "colab_type": "code",
    "id": "oL6tHLOqYJl_"
   },
   "outputs": [],
   "source": [
    "#------------------------------------------------------------------------\n",
    "# 4.2: Add 1 to n\n",
    "#------------------------------------------------------------------------\n",
    "def AddN(n):\n",
    "    s = sum(range(n + 1))\n",
    "    return s\n",
    "\n",
    "print (\"AddN(10) -->\", AddN(10))\n",
    "print (\"AddN(20) -->\", AddN(20))\n",
    "print (\"AddN(50) -->\", AddN(50))\n",
    "print (\"AddN(200)-->\", AddN(200))\n"
   ]
  },
  {
   "cell_type": "markdown",
   "metadata": {
    "colab_type": "text",
    "id": "PVg3ANDDYJmM"
   },
   "source": [
    "### 4.3: Default Parameter"
   ]
  },
  {
   "cell_type": "code",
   "execution_count": null,
   "metadata": {
    "colab": {},
    "colab_type": "code",
    "id": "4WoRKZyRYJmN"
   },
   "outputs": [],
   "source": [
    "#------------------------------------------------------------------------\n",
    "# 4.4: Default Parameter\n",
    "#------------------------------------------------------------------------\n",
    "def Add(a, b, d = 90):\n",
    "    c = a + b + d\n",
    "    return c\n",
    "\n",
    "print (\"Add(10,20)   -->\", Add(10,20))\n",
    "print (\"Add(20,50,10)-->\", Add(20,50,10))\n"
   ]
  },
  {
   "cell_type": "markdown",
   "metadata": {
    "colab_type": "text",
    "id": "plc2VCWQYJmU"
   },
   "source": [
    "#### Assingment 5.1: WAP using function that add all odd numbers from 1 to n; n given by user.\n",
    "#### Assingment 5.2: WAP using function that add all even numbers from 1 to n; n given by user.\n",
    "#### Assingment 5.3: WAP using function that add all prime numbers from 1 to n; n given by user.\n"
   ]
  },
  {
   "cell_type": "markdown",
   "metadata": {
    "colab_type": "text",
    "id": "qY6cUYKUYJmX"
   },
   "source": [
    "# 6: Math library"
   ]
  },
  {
   "cell_type": "code",
   "execution_count": null,
   "metadata": {
    "colab": {},
    "colab_type": "code",
    "id": "SWHTLHIvYJmb"
   },
   "outputs": [],
   "source": [
    "#-----------------------------------------------------------------------\n",
    "# 6: Math library\n",
    "#-----------------------------------------------------------------------\n",
    "\n",
    "import math as m\n",
    "print (\"exp(-200)    -->\", m.exp(-200))  # Exponential function\n",
    "print (\"log(100,2)   -->\", m.log(100,2)) # Log\n",
    "print (\"log(100,10)  -->\", m.log(100,10))# Log\n",
    "print (\"log10(100)   -->\", m.log10(100)) # Log 10\n",
    "print (\"m.cos(30)    -->\", m.cos(30))    # cos\n",
    "print (\"m.sin(30)    -->\", m.sin(30))    # sin\n",
    "print (\"m.tan(30)    -->\", m.tan(30))    # tan\n",
    "print (\"m.sqrt(324)  -->\", m.sqrt(324))\n",
    "print (\"m.ceil(89.9) -->\", m.ceil(89.9))\n",
    "print (\"m.floor(89.9)-->\", m.floor(89.9))\n"
   ]
  },
  {
   "cell_type": "markdown",
   "metadata": {
    "colab_type": "text",
    "id": "DFI8zxozYJmm"
   },
   "source": [
    "# 7: String Handling"
   ]
  },
  {
   "cell_type": "markdown",
   "metadata": {
    "colab_type": "text",
    "id": "z6so71RvYJmo"
   },
   "source": [
    "### 7.1: String Declaration"
   ]
  },
  {
   "cell_type": "code",
   "execution_count": 6,
   "metadata": {
    "colab": {},
    "colab_type": "code",
    "id": "qMgxtro8YJmo"
   },
   "outputs": [
    {
     "name": "stdout",
     "output_type": "stream",
     "text": [
      "var1 --> Hello Python\n",
      "var2 --> Hello Python\n"
     ]
    }
   ],
   "source": [
    "#------------------------------------------------------------------------\n",
    "# 7.1: String Declaration\n",
    "#------------------------------------------------------------------------\n",
    "var1 = 'Hello Python'\n",
    "var2 = \"Hello Python\"\n",
    "print (\"var1 -->\", var1)\n",
    "print (\"var2 -->\",var2)\n"
   ]
  },
  {
   "cell_type": "markdown",
   "metadata": {
    "colab_type": "text",
    "id": "0uMA8qocYJm0"
   },
   "source": [
    "### 7.2: Difference between single quote and double quote"
   ]
  },
  {
   "cell_type": "code",
   "execution_count": null,
   "metadata": {
    "colab": {},
    "colab_type": "code",
    "id": "mPkLE103YJm1"
   },
   "outputs": [],
   "source": [
    "#------------------------------------------------------------------------\n",
    "# 7.2: Difference between single quote and double quote\n",
    "#------------------------------------------------------------------------\n",
    "var1 = 'Hello \"Python\"'\n",
    "var2 = \"Hello 'Python'\"\n",
    "print (\"var1 -->\", var1)\n",
    "print (\"var2 -->\",var2)\n"
   ]
  },
  {
   "cell_type": "code",
   "execution_count": null,
   "metadata": {
    "colab": {},
    "colab_type": "code",
    "id": "5zj3syGSYJm_"
   },
   "outputs": [],
   "source": [
    "# No Error\n",
    "print(\"It's python\") # No Error\n"
   ]
  },
  {
   "cell_type": "code",
   "execution_count": null,
   "metadata": {
    "colab": {},
    "colab_type": "code",
    "id": "WWgsD6aEYJnG"
   },
   "outputs": [],
   "source": [
    "# Error\n",
    "print('It's python') # Error\n"
   ]
  },
  {
   "cell_type": "code",
   "execution_count": null,
   "metadata": {
    "colab": {},
    "colab_type": "code",
    "id": "cMwtU8MVYJnO"
   },
   "outputs": [],
   "source": [
    "# No Error; Use of \\\n",
    "print('It\\'s python') # No Error\n"
   ]
  },
  {
   "cell_type": "code",
   "execution_count": null,
   "metadata": {
    "colab": {},
    "colab_type": "code",
    "id": "55kOy5ORYJne"
   },
   "outputs": [],
   "source": [
    "# No Error\n",
    "print('It\"s python') # No Error\n"
   ]
  },
  {
   "cell_type": "markdown",
   "metadata": {
    "colab_type": "text",
    "id": "X68hcD1DYJnl"
   },
   "source": [
    "### 7.3: Indexing in string"
   ]
  },
  {
   "cell_type": "code",
   "execution_count": 7,
   "metadata": {
    "colab": {},
    "colab_type": "code",
    "id": "DuTKBDmcYJnn"
   },
   "outputs": [
    {
     "name": "stdout",
     "output_type": "stream",
     "text": [
      "var1     --> 123456789\n",
      "var1[1]  --> 2\n",
      "var1[2]  --> 3\n",
      "var1[-1] --> 9\n",
      "var1[-2] --> 8\n"
     ]
    }
   ],
   "source": [
    "#------------------------------------------------------------------------\n",
    "# 7.3: Indexing in string\n",
    "#------------------------------------------------------------------------\n",
    "#Example 1:\n",
    "var1 = \"123456789\"\n",
    "print(\"var1     -->\", var1)\n",
    "print(\"var1[1]  -->\", var1[1])\n",
    "print(\"var1[2]  -->\", var1[2])\n",
    "print(\"var1[-1] -->\", var1[-1])\n",
    "print(\"var1[-2] -->\", var1[-2])\n"
   ]
  },
  {
   "cell_type": "code",
   "execution_count": 9,
   "metadata": {
    "colab": {},
    "colab_type": "code",
    "id": "nUmzVHPZYJnu"
   },
   "outputs": [
    {
     "name": "stdout",
     "output_type": "stream",
     "text": [
      "var1       --> 12345678\n",
      "var1[1:3]  --> 23\n",
      "var1[2:]   --> 345678\n",
      "var1[2:5]  --> 345\n",
      "var1[:2]   --> 12\n",
      "var1[:-1]  --> 1234567\n",
      "var1[-4:-1]--> 567\n"
     ]
    }
   ],
   "source": [
    "#Example 2:\n",
    "var1 = \"12345678\"\n",
    "print(\"var1       -->\", var1)\n",
    "print(\"var1[1:3]  -->\", var1[1:3])\n",
    "print(\"var1[2:]   -->\", var1[2:])\n",
    "print(\"var1[2:5]  -->\", var1[2:5])\n",
    "print(\"var1[:2]   -->\", var1[:2])\n",
    "print(\"var1[:-1]  -->\", var1[:-1])\n",
    "print(\"var1[-4:-1]-->\", var1[-4:-1])\n"
   ]
  },
  {
   "cell_type": "code",
   "execution_count": 10,
   "metadata": {
    "colab": {},
    "colab_type": "code",
    "id": "EZWPq2ILYJn3"
   },
   "outputs": [
    {
     "name": "stdout",
     "output_type": "stream",
     "text": [
      "var1      --> 123456789\n",
      "var1[::1] --> 123456789\n",
      "var1[::-1]--> 987654321\n",
      "var1[::-2]--> 97531\n",
      "var1[::2] --> 13579\n"
     ]
    }
   ],
   "source": [
    "#Example 3:\n",
    "var1 = \"123456789\"\n",
    "print(\"var1      -->\", var1)\n",
    "print(\"var1[::1] -->\", var1[::1])        # No change\n",
    "print(\"var1[::-1]-->\", var1[::-1])       # Reverse\n",
    "print(\"var1[::-2]-->\", var1[::-2])\n",
    "print(\"var1[::2] -->\", var1[::2])\n"
   ]
  },
  {
   "cell_type": "markdown",
   "metadata": {
    "colab_type": "text",
    "id": "Qrgkl_VrYJn-"
   },
   "source": [
    "### 7.4: String length, upper, lower"
   ]
  },
  {
   "cell_type": "code",
   "execution_count": null,
   "metadata": {
    "colab": {},
    "colab_type": "code",
    "id": "AlN7CMRZYJn_"
   },
   "outputs": [],
   "source": [
    "#------------------------------------------------------------------------\n",
    "# 7.4: String length, upper, lower\n",
    "#------------------------------------------------------------------------\n",
    "var1 = \"Python Programming\"\n",
    "\n",
    "print (\"var1           --> \", var1)\n",
    "print (\"\\nlength of var1 --> \", len(var1))\n",
    "\n",
    "print (\"\\nUpper of var1  --> \", var1.upper())     # No change in the var1 variable\n",
    "print (\"var1           --> \", var1)\n",
    "\n",
    "print (\"\\nLower of var1  --> \", var1.lower())\n",
    "print (\"var1           --> \", var1)\n"
   ]
  },
  {
   "cell_type": "markdown",
   "metadata": {
    "colab_type": "text",
    "id": "3y7YA6EzYJoE"
   },
   "source": [
    "### 7.5: To save string in upper/lower permanetly"
   ]
  },
  {
   "cell_type": "code",
   "execution_count": null,
   "metadata": {
    "colab": {},
    "colab_type": "code",
    "id": "sDIrkGPOYJoG"
   },
   "outputs": [],
   "source": [
    "#------------------------------------------------------------------------\n",
    "# 7.5: To save string in upper/lower permanetly\n",
    "#------------------------------------------------------------------------\n",
    "var1 = \"Python Programming\"\n",
    "print (\"var1 --> \", var1)\n",
    "\n",
    "var1 = var1.upper()               # Assign back to var1 variable\n",
    "print (\"var1 --> \", var1)\n"
   ]
  },
  {
   "cell_type": "markdown",
   "metadata": {
    "colab_type": "text",
    "id": "FyQWu5HeYJoL"
   },
   "source": [
    "### 7.6: String formatting"
   ]
  },
  {
   "cell_type": "code",
   "execution_count": null,
   "metadata": {
    "colab": {},
    "colab_type": "code",
    "id": "NKow_lZZYJoM"
   },
   "outputs": [],
   "source": [
    "#------------------------------------------------------------------------\n",
    "# 7.6: String formatting\n",
    "#------------------------------------------------------------------------\n",
    "name  = \"Baljeet\"    #=input(\"Enter your name: \")\"\n",
    "age   = 20           #=int(input(\"Enter your age: \"))\n",
    "price = 89.5         #=float(input(\"Enter the book price: \"))\n",
    "s = \"Your name is %s, age is %d and book price is %f\" %(name.upper(),age,price)\n",
    "print (s)\n"
   ]
  },
  {
   "cell_type": "markdown",
   "metadata": {
    "colab_type": "text",
    "id": "dZrLUaKHYJoU"
   },
   "source": [
    "### 7.7: String in Triple Quotes"
   ]
  },
  {
   "cell_type": "code",
   "execution_count": null,
   "metadata": {
    "colab": {},
    "colab_type": "code",
    "id": "4kFxp7-yYJoV"
   },
   "outputs": [],
   "source": [
    "#------------------------------------------------------------------------\n",
    "# 7.7: String in Triple Quotes\n",
    "#------------------------------------------------------------------------\n",
    "para_str = \"\"\"This is a long string that is made up of\n",
    "several lines and non-printable characters such as\n",
    "TAB ( \\t ) and they will show up that way when displayed.\n",
    "NEWLINEs within the string, whether explicitly given like\n",
    "this within the brackets [ \\n ], or just a NEWLINE within\n",
    "the variable assignment will also show up.\n",
    "\"\"\"\n",
    "print (para_str)\n"
   ]
  },
  {
   "cell_type": "markdown",
   "metadata": {
    "colab_type": "text",
    "id": "ZWjTG_HyYJoc"
   },
   "source": [
    "### 7.8: String strip - Remove white Spaces (space, new line, tab) from either side"
   ]
  },
  {
   "cell_type": "code",
   "execution_count": null,
   "metadata": {
    "colab": {},
    "colab_type": "code",
    "id": "nqH3rdU0YJod"
   },
   "outputs": [],
   "source": [
    "#---------------------------------------------------------------------------------\n",
    "# 7.8: String strip - Remove white Spaces (space, new line, tab) from either side\n",
    "#---------------------------------------------------------------------------------\n",
    "s1 = \" Indian Army    \"\n",
    "s2 = \" Indian     Army    \"\n",
    "s3 = \"Indian,Army,is,best\"\n",
    "\n",
    "print (\"s1       --> \", s1, \"\\t\\t   Length --> \", len(s1))\n",
    "print (\"s1 strip --> \", s1.strip(), \"\\t\\t   Length --> \", len(s1.strip()))\n",
    "\n",
    "print (\"\\ns2       --> \", s2, \"\\t   Length --> \", len(s2))\n",
    "print (\"s2 strip --> \", s2.strip(), \"\\t\\t   Length --> \", len(s2.strip()))\n",
    "\n",
    "print (\"\\ns3       --> \", s3, \"\\t   Length --> \", len(s3))\n",
    "print (\"s3 strip --> \", s3.strip(), \"\\t   Length --> \", len(s3.strip()))\n"
   ]
  },
  {
   "cell_type": "markdown",
   "metadata": {
    "colab_type": "text",
    "id": "ZNVvzg_SYJom"
   },
   "source": [
    "### 7.9: String split"
   ]
  },
  {
   "cell_type": "code",
   "execution_count": 11,
   "metadata": {
    "colab": {},
    "colab_type": "code",
    "id": "sxfzEVJsYJoo"
   },
   "outputs": [
    {
     "name": "stdout",
     "output_type": "stream",
     "text": [
      "s1                -->   Indian Army    \n",
      "s1 split          -->  ['Indian', 'Army']\n",
      "\n",
      "s2                -->   Indian     Army    \n",
      "s2 split          -->  ['Indian', 'Army']\n",
      "s2 split with ',' -->  [' Indian     Army    ']\n",
      "\n",
      "s3                -->  Indian,Army,is,best\n",
      "s3 split          -->  ['Indian,Army,is,best']\n",
      "s3 split with ' ' -->  ['Indian,Army,is,best']\n"
     ]
    }
   ],
   "source": [
    "#------------------------------------------------------------------------\n",
    "# 7.9: String split\n",
    "#------------------------------------------------------------------------\n",
    "s1 = \" Indian Army    \"\n",
    "s2 = \" Indian     Army    \"\n",
    "s3 = \"Indian,Army,is,best\"\n",
    "\n",
    "print (\"s1                --> \", s1)\n",
    "print (\"s1 split          --> \", s1.split())\n",
    "\n",
    "print (\"\\ns2                --> \", s2)\n",
    "print (\"s2 split          --> \", s2.split())\n",
    "print (\"s2 split with ',' --> \", s2.split(\",\"))\n",
    "\n",
    "print (\"\\ns3                --> \", s3)\n",
    "print (\"s3 split          --> \", s3.split())\n",
    "print (\"s3 split with ' ' --> \", s3.split(' '))\n"
   ]
  },
  {
   "cell_type": "markdown",
   "metadata": {
    "colab_type": "text",
    "id": "zYe5mx0oYJow"
   },
   "source": [
    "### 7.10: Count in string"
   ]
  },
  {
   "cell_type": "code",
   "execution_count": null,
   "metadata": {
    "colab": {},
    "colab_type": "code",
    "id": "glpCE2--YJoy"
   },
   "outputs": [],
   "source": [
    "#------------------------------------------------------------------------\n",
    "# 7.10: Count in string\n",
    "#------------------------------------------------------------------------\n",
    "s1 = \" Indian Army    \"\n",
    "print (\"s1           -->\", s1)\n",
    "print (\"s1 count ' ' -->\", s1.count(' '))\n",
    "print (\"s1 count 'a' -->\", s1.count('a'))\n",
    "print (\"s1 count 'an'-->\", s1.count('an'))\n"
   ]
  },
  {
   "cell_type": "markdown",
   "metadata": {
    "colab_type": "text",
    "id": "9dw1mDJlYJo4"
   },
   "source": [
    "### 7.11: Reverse a String"
   ]
  },
  {
   "cell_type": "code",
   "execution_count": null,
   "metadata": {
    "colab": {},
    "colab_type": "code",
    "id": "cFVDZE4QYJo5"
   },
   "outputs": [],
   "source": [
    "#------------------------------------------------------------------------\n",
    "# 7.11: Reverse a String\n",
    "#------------------------------------------------------------------------\n",
    "s1 = \"Indian Army\"\n",
    "print (\"s1               -->\", s1)\n",
    "print (\"s1[::1]          -->\", s1[::1])\n",
    "print (\"s1[::-1]         -->\", s1[::-1])\n",
    "print (\"s1[::-2]         -->\", s1[::-2])\n",
    "print (\"s1[::2]          -->\", s1[::2])\n",
    "\n",
    "s1 = s1[::-1]\n",
    "print (\"s1 after reverse -->\", s1)\n"
   ]
  },
  {
   "cell_type": "markdown",
   "metadata": {
    "colab_type": "text",
    "id": "kO8S_49eYJpB"
   },
   "source": [
    "### 7.12: Palindrome"
   ]
  },
  {
   "cell_type": "code",
   "execution_count": null,
   "metadata": {
    "colab": {},
    "colab_type": "code",
    "id": "t883C281YJpC"
   },
   "outputs": [],
   "source": [
    "#------------------------------------------------------------------------\n",
    "# 7.12: Palindrome\n",
    "#------------------------------------------------------------------------\n",
    "s1 = \"Indian Army\"\n",
    "s2 = \"malayalam\"\n",
    "s3 = \"madam\"\n",
    "s4 = \"teacher\"\n",
    "print (\"s1 -->\", s1 == s1[::-1])\n",
    "print (\"s2 -->\", s2 == s2[::-1])\n",
    "print (\"s3 -->\", s3 == s3[::-1])\n",
    "print (\"s4 -->\", s4 == s4[::-1])\n"
   ]
  },
  {
   "cell_type": "code",
   "execution_count": null,
   "metadata": {},
   "outputs": [],
   "source": []
  }
 ],
 "metadata": {
  "colab": {
   "collapsed_sections": [],
   "name": "Day03 - Loops, Functions, Math Library, Strings.ipynb",
   "provenance": []
  },
  "kernelspec": {
   "display_name": "Python 3",
   "language": "python",
   "name": "python3"
  },
  "language_info": {
   "codemirror_mode": {
    "name": "ipython",
    "version": 3
   },
   "file_extension": ".py",
   "mimetype": "text/x-python",
   "name": "python",
   "nbconvert_exporter": "python",
   "pygments_lexer": "ipython3",
   "version": "3.8.3"
  }
 },
 "nbformat": 4,
 "nbformat_minor": 1
}
