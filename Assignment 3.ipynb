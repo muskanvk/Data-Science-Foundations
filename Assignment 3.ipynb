{
 "cells": [
  {
   "cell_type": "markdown",
   "metadata": {},
   "source": [
    "# PCS 110 Data Science Foundations Assignment 3"
   ]
  },
  {
   "cell_type": "markdown",
   "metadata": {},
   "source": [
    " Name : Muskan Kumar                                                       Roll No : 802032027 "
   ]
  },
  {
   "cell_type": "code",
   "execution_count": 27,
   "metadata": {},
   "outputs": [
    {
     "name": "stdout",
     "output_type": "stream",
     "text": [
      "Added 50 and 50  [11, 12, 13, 14, 50, 60]\n",
      "Removed 11 and 13  [11, 12, 50, 60]\n",
      "None\n"
     ]
    }
   ],
   "source": [
    "# Q1. L is a list defined as L= [11, 12, 13, 14].\n",
    "\n",
    "L = [11, 12, 13, 14]\n",
    "L.extend([50,60]) # a) WAP to add 50 and 60 to L.\n",
    "print(\"Added 50 and 50 \", L)\n",
    "\n",
    "del L[2:4] #b) WAP to remove 11 and 13 from L.\n",
    "print(\"Removed 11 and 13 \",L)"
   ]
  },
  {
   "cell_type": "code",
   "execution_count": 25,
   "metadata": {},
   "outputs": [
    {
     "name": "stdout",
     "output_type": "stream",
     "text": [
      "Ascending order is  [11, 12, 13, 14]\n",
      "Descending order is  [14, 13, 12, 11]\n",
      "13  in L --> True\n",
      "Elements in list L ---> 4\n"
     ]
    }
   ],
   "source": [
    "L =[12,14,11,13]\n",
    "L.sort() #c) WAP to sort L in ascending order.\n",
    "print(\"Ascending order is \", L)\n",
    "\n",
    "L.sort(reverse = True) #d) WAP to sort L in descending order.\n",
    "print(\"Descending order is \",L)\n",
    "print(\"13  in L -->\", 13 in L) #e) WAP to search for 13 in L.\n",
    "print(\"Elements in list L --->\", len(L))  #f) WAP to count the number of elements present in L"
   ]
  },
  {
   "cell_type": "code",
   "execution_count": 37,
   "metadata": {},
   "outputs": [
    {
     "name": "stdout",
     "output_type": "stream",
     "text": [
      "sum of the list is:  50\n"
     ]
    }
   ],
   "source": [
    "# g) WAP to sum all the elements in L.\n",
    "L =[12,14,11,13]\n",
    "sum = 0  \n",
    "for i in L:\n",
    "    sum+=i\n",
    "print(\"sum of the list is: \",sum)"
   ]
  },
  {
   "cell_type": "code",
   "execution_count": 39,
   "metadata": {},
   "outputs": [
    {
     "name": "stdout",
     "output_type": "stream",
     "text": [
      "sum of odd elements in the list is:  24\n",
      "sum of even elements in the list is:  26\n"
     ]
    }
   ],
   "source": [
    "L =[12,14,11,13]\n",
    "even = 0\n",
    "odd = 0\n",
    "for i in L:\n",
    "    if(i%2==1): #h) WAP to sum all ODD numbers in L.\n",
    "        odd+=i\n",
    "    else:\n",
    "        even+=i #i) WAP to sum all EVEN numbers in L.\n",
    "print(\"sum of odd elements in the list is: \",odd)\n",
    "print(\"sum of even elements in the list is: \",even)"
   ]
  },
  {
   "cell_type": "code",
   "execution_count": 128,
   "metadata": {},
   "outputs": [
    {
     "name": "stdout",
     "output_type": "stream",
     "text": [
      "Sum of Prime Numbers: 24\n"
     ]
    }
   ],
   "source": [
    "#j) WAP to sum all PRIME numbers in L.\n",
    "L =[12,14,11,13]\n",
    "sum = 0\n",
    "for element in L:\n",
    "    if element > 1:  \n",
    "        for i in range(2, element//2):\n",
    "            if (element % i) == 0: \n",
    "                break\n",
    "        else: \n",
    "            sum+=element\n",
    "print(\"Sum of Prime Numbers:\",sum)"
   ]
  },
  {
   "cell_type": "code",
   "execution_count": 110,
   "metadata": {},
   "outputs": [],
   "source": [
    "L =[12,14,11,13]\n",
    "L.clear() #k) WAP to clear all the elements in L.\n",
    "del L[1:5]#l) WAP to delete L."
   ]
  },
  {
   "cell_type": "code",
   "execution_count": 147,
   "metadata": {},
   "outputs": [
    {
     "name": "stdout",
     "output_type": "stream",
     "text": [
      "List 1 is: [23, 23, 27, 27, 10, 20, 11, 11, 28, 28]\n",
      "List 2 is: [22, 23, 24, 30, 18, 24, 21, 17, 13, 24]\n"
     ]
    },
    {
     "data": {
      "text/plain": [
       "[23, 23]"
      ]
     },
     "execution_count": 147,
     "metadata": {},
     "output_type": "execute_result"
    }
   ],
   "source": [
    "#Q2: WAP to create two lists of 10 random numbers between 10 and 30; \n",
    "\n",
    "import random as r\n",
    "l = []\n",
    "m = []\n",
    "for i in range(10):\n",
    "    l.append(r.randint(10,30))\n",
    "    m.append(r.randint(10,30))\n",
    "print(\"List 1 is:\", l)\n",
    "print(\"List 2 is:\", m)\n",
    "\n",
    "# a) Common numbers in the two lists\n",
    "def common(l,m): \n",
    "    c = [value for value in l if value in m] \n",
    "    return c\n",
    "\n",
    "common(l,m)"
   ]
  },
  {
   "cell_type": "code",
   "execution_count": 148,
   "metadata": {},
   "outputs": [
    {
     "name": "stdout",
     "output_type": "stream",
     "text": [
      "List 1 is: [30, 18, 22, 29, 17, 27, 19, 10, 16, 21]\n",
      "List 2 is: [17, 10, 30, 19, 14, 21, 21, 14, 10, 16]\n"
     ]
    },
    {
     "data": {
      "text/plain": [
       "[18, 22, 29, 27]"
      ]
     },
     "execution_count": 148,
     "metadata": {},
     "output_type": "execute_result"
    }
   ],
   "source": [
    "#b) Unique numbers in both the lists\n",
    "\n",
    "import random as r\n",
    "l = []\n",
    "m = []\n",
    "for i in range(10):\n",
    "    l.append(r.randint(10,30))\n",
    "    m.append(r.randint(10,30))\n",
    "print(\"List 1 is:\", l)\n",
    "print(\"List 2 is:\", m)\n",
    "\n",
    "def unique(l,m): \n",
    "    c = [value for value in l if value not in m] \n",
    "    return c\n",
    "\n",
    "unique(l,m)"
   ]
  },
  {
   "cell_type": "code",
   "execution_count": 150,
   "metadata": {},
   "outputs": [
    {
     "name": "stdout",
     "output_type": "stream",
     "text": [
      "List 1 is: [20, 23, 29, 12, 30, 21, 23, 11, 18, 18]\n",
      "List 2 is: [10, 29, 15, 24, 17, 12, 12, 28, 26, 13]\n",
      "The maximum of both lists is : 30\n",
      "The minimum of both lists is : 10\n"
     ]
    }
   ],
   "source": [
    "#c) Minimum in both the lists\n",
    "#d) Maximum in both the lists\n",
    "\n",
    "import random as r\n",
    "l = []\n",
    "m = []\n",
    "for i in range(10):\n",
    "    l.append(r.randint(10,30))\n",
    "    m.append(r.randint(10,30))\n",
    "print(\"List 1 is:\", l)\n",
    "print(\"List 2 is:\", m)\n",
    "max_elem = max(l+m)  #max\n",
    "min_elem = min(l+m)  #min\n",
    "  \n",
    "# printing result \n",
    "print (\"The maximum of both lists is : \" + str(max_elem)) \n",
    "print (\"The minimum of both lists is : \" + str(min_elem)) "
   ]
  },
  {
   "cell_type": "code",
   "execution_count": 156,
   "metadata": {},
   "outputs": [
    {
     "name": "stdout",
     "output_type": "stream",
     "text": [
      "Sum of both the lists is : [42, 45, 39, 39, 30, 40, 40, 45, 50, 40]\n"
     ]
    }
   ],
   "source": [
    "#e) Sum of both the lists\n",
    "\n",
    "import random as r\n",
    "l = []\n",
    "m = []\n",
    "for i in range(10):\n",
    "    l.append(r.randint(10,30))\n",
    "    m.append(r.randint(10,30))\n",
    "#print(\"List 1 is:\", l)\n",
    "#print(\"List 2 is:\", m)\n",
    "\n",
    "result = [l[i] + m[i] for i in range(len(l))]\n",
    "print(\"Sum of both the lists is :\", result)"
   ]
  },
  {
   "cell_type": "code",
   "execution_count": 173,
   "metadata": {},
   "outputs": [
    {
     "name": "stdout",
     "output_type": "stream",
     "text": [
      "List 1 is: [82, 54, 29, 11, 18, 50, 74, 90, 71, 23, 23, 60, 54, 37, 73, 56, 26, 38, 85, 53]\n",
      "odd elements are: [29, 11, 71, 23, 23, 37, 73, 85, 53]\n",
      "even elements are: [82, 54, 18, 50, 74, 90, 60, 54, 56, 26, 38]\n",
      "Prime Numbers: [29, 11, 71, 23, 23, 37, 73, 53]\n",
      "Unique numbers are: [82, 54, 29, 11, 18, 50, 74, 90, 71, 23, 60, 37, 73, 56, 26, 38, 85, 53]\n",
      "duplicate numbers are: [54, 23]\n"
     ]
    }
   ],
   "source": [
    "#Q3. WAP to create a list of 20 random numbers between 10 and 100. Count and print the:\n",
    "\n",
    "import random as r\n",
    "L1 = []\n",
    "for i in range(20):\n",
    "    L1.append(r.randint(10,100))\n",
    "    \n",
    "print(\"List 1 is:\", L1)\n",
    "#a) All odd numbers\n",
    "odd = [num for num in L1 if num % 2 == 1]\n",
    "print(\"odd elements are:\", odd)\n",
    "\n",
    "#b) All even numbers\n",
    "even = [num for num in L1 if num % 2 == 0]\n",
    "print(\"even elements are:\", even)\n",
    "\n",
    "#c) All prime numbers\n",
    "count = 0\n",
    "L2=[]\n",
    "for element in L1:\n",
    "    if element > 1:  \n",
    "        for i in range(2, element//2):\n",
    "            if (element % i) == 0: \n",
    "                break\n",
    "        else: \n",
    "            L2.append(element)\n",
    "            \n",
    "print(\"Prime Numbers:\",L2)\n",
    "\n",
    "#d) All unique numbers\n",
    "L3=[]\n",
    "for i in L1:\n",
    "    if i not in L3:\n",
    "        L3.append(i)\n",
    "print(\"Unique numbers are:\",L3)\n",
    "\n",
    "#e) All duplicate numbers\n",
    "def Repeat(x): \n",
    "    _size = len(x) \n",
    "    repeated = [] \n",
    "    for i in range(_size): \n",
    "        k = i + 1\n",
    "        for j in range(k, _size): \n",
    "            if x[i] == x[j] and x[i] not in repeated: \n",
    "                repeated.append(x[i]) \n",
    "    return repeated \n",
    "  \n",
    "ans = Repeat(L1)\n",
    "print(\"duplicate numbers are:\", ans)\n"
   ]
  },
  {
   "cell_type": "code",
   "execution_count": null,
   "metadata": {},
   "outputs": [],
   "source": [
    "#Q4: L is a list defined as L = [“Apple”,\"Watermelon\",\"Pear\",\"Orange\",\"Mango\"]. WAP to count the length of each element from a list and print the output in the given below format:\n",
    "\n",
    "L = [“Apple”,\"Watermelon\",\"Pear\",\"Orange\",\"Mango\"]\n",
    "for i in L:\n",
    "    count"
   ]
  },
  {
   "cell_type": "code",
   "execution_count": null,
   "metadata": {},
   "outputs": [],
   "source": [
    "Q5: WAP to count and print the unique words from the sentence “I am learning python in DS course and python in this course is interesting.” without importing any library/module."
   ]
  },
  {
   "cell_type": "code",
   "execution_count": null,
   "metadata": {},
   "outputs": [],
   "source": [
    "WAP to sort the following number of elements in a list and calculate time taken."
   ]
  }
 ],
 "metadata": {
  "kernelspec": {
   "display_name": "Python 3",
   "language": "python",
   "name": "python3"
  },
  "language_info": {
   "codemirror_mode": {
    "name": "ipython",
    "version": 3
   },
   "file_extension": ".py",
   "mimetype": "text/x-python",
   "name": "python",
   "nbconvert_exporter": "python",
   "pygments_lexer": "ipython3",
   "version": "3.8.3"
  }
 },
 "nbformat": 4,
 "nbformat_minor": 4
}
