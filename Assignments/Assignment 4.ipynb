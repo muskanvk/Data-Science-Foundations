{
 "cells": [
  {
   "cell_type": "markdown",
   "metadata": {},
   "source": [
    "# PCS 110 Data Science Foundations Assignment 4"
   ]
  },
  {
   "cell_type": "raw",
   "metadata": {},
   "source": [
    "Name : Muskan Kumar                                                           Roll No : 802032027 "
   ]
  },
  {
   "cell_type": "code",
   "execution_count": null,
   "metadata": {},
   "outputs": [],
   "source": [
    "#Q1. Create 500 files in a directory. Every file contains 20,000 lines and every line contains random string of length 20 characters\n",
    "\n",
    "import random,string\n",
    "\n",
    "for i in range(501):\n",
    "    fname = \"file\"+str(i)+\".txt\"\n",
    "    f = open(fname,'w+')\n",
    "    for j in range(20001):\n",
    "        f.write(\"\".join(random.sample(string.ascii_letters,20))+ \"\\n\")\n",
    "        \n",
    "f.close()"
   ]
  },
  {
   "cell_type": "code",
   "execution_count": 1,
   "metadata": {},
   "outputs": [
    {
     "name": "stdout",
     "output_type": "stream",
     "text": [
      "execution time is 15.994448900222778\n"
     ]
    }
   ],
   "source": [
    "#Q2. Calculate the execution time to convert all files to upper case. Save the results in a csv file as \n",
    "# No. of files | Time Taken(sec)\n",
    "\n",
    "import csv\n",
    "import time\n",
    "\n",
    "begin = time.time()\n",
    "with open(\"mainfile.csv\",'w') as mfile:\n",
    "    wr = csv.writer(mfile)\n",
    "    wr.writerow([\"No. of files | Time Taken(sec)\"])\n",
    "    \n",
    "    for i in range(501):\n",
    "        fname = \"file\"+str(i)+\".txt\"\n",
    "        f = open(fname,'r')\n",
    "        content = f.read()\n",
    "        f.close\n",
    "        content= content.upper()\n",
    "        f = open(fname,'w')\n",
    "        f.write(content)\n",
    "        \n",
    "        if((i%100==0) and (i>=100)):\n",
    "            calc = time.time() - begin\n",
    "            wr.writerow([i,calc])\n",
    "            f.close()\n",
    "            \n",
    "\n",
    "print(\"execution time is\", calc)\n",
    "        \n",
    "    "
   ]
  },
  {
   "cell_type": "markdown",
   "metadata": {},
   "source": [
    "![alt text](c1.png \"Title\")"
   ]
  }
 ],
 "metadata": {
  "kernelspec": {
   "display_name": "Python 3",
   "language": "python",
   "name": "python3"
  },
  "language_info": {
   "codemirror_mode": {
    "name": "ipython",
    "version": 3
   },
   "file_extension": ".py",
   "mimetype": "text/x-python",
   "name": "python",
   "nbconvert_exporter": "python",
   "pygments_lexer": "ipython3",
   "version": "3.8.3"
  }
 },
 "nbformat": 4,
 "nbformat_minor": 4
}
