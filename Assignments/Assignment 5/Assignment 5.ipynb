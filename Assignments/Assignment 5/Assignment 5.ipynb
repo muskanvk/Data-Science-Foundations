{
 "cells": [
  {
   "cell_type": "markdown",
   "metadata": {},
   "source": [
    "# PCS 110 Data Science Foundations Assignment 5"
   ]
  },
  {
   "cell_type": "raw",
   "metadata": {},
   "source": [
    " Name : Muskan Kumar                                                       Roll No : 802032027 "
   ]
  },
  {
   "cell_type": "code",
   "execution_count": 2,
   "metadata": {},
   "outputs": [
    {
     "data": {
      "text/html": [
       "<div>\n",
       "<style scoped>\n",
       "    .dataframe tbody tr th:only-of-type {\n",
       "        vertical-align: middle;\n",
       "    }\n",
       "\n",
       "    .dataframe tbody tr th {\n",
       "        vertical-align: top;\n",
       "    }\n",
       "\n",
       "    .dataframe thead th {\n",
       "        text-align: right;\n",
       "    }\n",
       "</style>\n",
       "<table border=\"1\" class=\"dataframe\">\n",
       "  <thead>\n",
       "    <tr style=\"text-align: right;\">\n",
       "      <th></th>\n",
       "      <th>Sequence</th>\n",
       "    </tr>\n",
       "  </thead>\n",
       "  <tbody>\n",
       "    <tr>\n",
       "      <th>count</th>\n",
       "      <td>20000</td>\n",
       "    </tr>\n",
       "    <tr>\n",
       "      <th>unique</th>\n",
       "      <td>20000</td>\n",
       "    </tr>\n",
       "    <tr>\n",
       "      <th>top</th>\n",
       "      <td>oPg4Njq3</td>\n",
       "    </tr>\n",
       "    <tr>\n",
       "      <th>freq</th>\n",
       "      <td>1</td>\n",
       "    </tr>\n",
       "  </tbody>\n",
       "</table>\n",
       "</div>"
      ],
      "text/plain": [
       "        Sequence\n",
       "count      20000\n",
       "unique     20000\n",
       "top     oPg4Njq3\n",
       "freq           1"
      ]
     },
     "execution_count": 2,
     "metadata": {},
     "output_type": "execute_result"
    }
   ],
   "source": [
    "#Q1: Generate a .csv file consisting of 20,000 sequences of random strings consisting of asci letters and digits of varying length (6-10 both including).\n",
    "\n",
    "import csv\n",
    "import pandas as pd\n",
    "import random as rd\n",
    "import string\n",
    "m_file= open (\"Sequence.csv\",\"w\") \n",
    "csvwriter = csv.writer(m_file)\n",
    "csvwriter.writerow([\"Sequence\"])\n",
    "for i in range(20000):\n",
    "    x=rd.randint(6,10)\n",
    "    csvwriter.writerow([\"\".join(rd.sample(string.ascii_letters+string.digits, x))])\n",
    "m_file.close() \n",
    "seq1=pd.read_csv(\"Sequence.csv\")\n",
    "seq1.describe()"
   ]
  },
  {
   "cell_type": "code",
   "execution_count": 3,
   "metadata": {},
   "outputs": [
    {
     "data": {
      "text/html": [
       "<div>\n",
       "<style scoped>\n",
       "    .dataframe tbody tr th:only-of-type {\n",
       "        vertical-align: middle;\n",
       "    }\n",
       "\n",
       "    .dataframe tbody tr th {\n",
       "        vertical-align: top;\n",
       "    }\n",
       "\n",
       "    .dataframe thead th {\n",
       "        text-align: right;\n",
       "    }\n",
       "</style>\n",
       "<table border=\"1\" class=\"dataframe\">\n",
       "  <thead>\n",
       "    <tr style=\"text-align: right;\">\n",
       "      <th></th>\n",
       "      <th>Sequence</th>\n",
       "    </tr>\n",
       "  </thead>\n",
       "  <tbody>\n",
       "    <tr>\n",
       "      <th>0</th>\n",
       "      <td>YXij0BpdVy</td>\n",
       "    </tr>\n",
       "    <tr>\n",
       "      <th>1</th>\n",
       "      <td>r4aqT8</td>\n",
       "    </tr>\n",
       "    <tr>\n",
       "      <th>2</th>\n",
       "      <td>kRprxTV4dl</td>\n",
       "    </tr>\n",
       "    <tr>\n",
       "      <th>3</th>\n",
       "      <td>j9gH7I</td>\n",
       "    </tr>\n",
       "    <tr>\n",
       "      <th>4</th>\n",
       "      <td>OFV6Z7hRzx</td>\n",
       "    </tr>\n",
       "  </tbody>\n",
       "</table>\n",
       "</div>"
      ],
      "text/plain": [
       "     Sequence\n",
       "0  YXij0BpdVy\n",
       "1      r4aqT8\n",
       "2  kRprxTV4dl\n",
       "3      j9gH7I\n",
       "4  OFV6Z7hRzx"
      ]
     },
     "execution_count": 3,
     "metadata": {},
     "output_type": "execute_result"
    }
   ],
   "source": [
    "#Q2.  Identify the count of Vowels (A, E, I, O, U) and unique consonants. If the string consist of any digit then write that string into log file.\n",
    "\n",
    "\n",
    "def Vowel_chk (stri,vowel1,vowel2):\n",
    "    count=0\n",
    "    for x in stri:\n",
    "        if x == vowel1 or x == vowel2:\n",
    "            count=count + 1\n",
    "    return count\n",
    "\n",
    "def check_num(stri):\n",
    "    num=True\n",
    "    for x in stri:\n",
    "        if x.isnumeric()==True:\n",
    "            num=False\n",
    "    return num\n",
    "\n",
    "num_l=[]\n",
    "for i in seq1.Sequence:\n",
    "    num_l.append(check_num(i))\n",
    "    \n",
    "sample=seq1.copy()\n",
    "sample[\"log\"]=num_l\n",
    "log=sample.Sequence[sample['log']==False]\n",
    "log.to_csv(\"log.csv\",index=False)\n",
    "log_read=pd.read_csv(\"log.csv\")\n",
    "log_read.head()"
   ]
  },
  {
   "cell_type": "code",
   "execution_count": 5,
   "metadata": {},
   "outputs": [],
   "source": [
    "result=pd.DataFrame(list(sample.Sequence[sample['log']==True]), columns = ['Sequence'])\n",
    "list_a=[]\n",
    "list_e=[]\n",
    "list_i=[]\n",
    "list_o=[]\n",
    "list_u=[]\n",
    "for i in result.Sequence:\n",
    "    list_a.append(Vowel_chk(i,\"A\",\"a\"))\n",
    "    list_e.append(Vowel_chk(i,\"E\",\"e\"))\n",
    "    list_i.append(Vowel_chk(i,\"I\",\"i\"))\n",
    "    list_o.append(Vowel_chk(i,\"O\",\"o\"))\n",
    "    list_u.append(Vowel_chk(i,\"U\",\"u\"))\n",
    "    \n",
    "result['A or a']=list_a\n",
    "result['E or e']=list_e\n",
    "result['I or i']=list_i\n",
    "result['O or o']=list_o\n",
    "result['U or u']=list_u\n",
    "result[\"Consonants\"]=result.Sequence.str.len()-result['A or a']-result['E or e']-result['I or i']-result['O or o']-result['U or u']\n",
    "result.to_csv(\"Result.csv\",index=False)"
   ]
  },
  {
   "cell_type": "code",
   "execution_count": 6,
   "metadata": {},
   "outputs": [
    {
     "data": {
      "text/html": [
       "<div>\n",
       "<style scoped>\n",
       "    .dataframe tbody tr th:only-of-type {\n",
       "        vertical-align: middle;\n",
       "    }\n",
       "\n",
       "    .dataframe tbody tr th {\n",
       "        vertical-align: top;\n",
       "    }\n",
       "\n",
       "    .dataframe thead th {\n",
       "        text-align: right;\n",
       "    }\n",
       "</style>\n",
       "<table border=\"1\" class=\"dataframe\">\n",
       "  <thead>\n",
       "    <tr style=\"text-align: right;\">\n",
       "      <th></th>\n",
       "      <th>Vowels</th>\n",
       "    </tr>\n",
       "  </thead>\n",
       "  <tbody>\n",
       "  </tbody>\n",
       "</table>\n",
       "</div>"
      ],
      "text/plain": [
       "Empty DataFrame\n",
       "Columns: [Vowels]\n",
       "Index: []"
      ]
     },
     "execution_count": 6,
     "metadata": {},
     "output_type": "execute_result"
    }
   ],
   "source": [
    "#Q3. Create two separate .csv files “Vowel.csv” and “Consonant.csv” having vowels and consonants only\n",
    "\n",
    "Vowel=pd.DataFrame(list(result.Sequence[result[\"Consonants\"]==0]), columns = ['Vowels'])\n",
    "Vowel.to_csv(\"Vowel.csv\",index=False)\n",
    "Vowel_read=pd.read_csv(\"Vowel.csv\")\n",
    "Vowel_read.head()"
   ]
  },
  {
   "cell_type": "code",
   "execution_count": 7,
   "metadata": {},
   "outputs": [
    {
     "data": {
      "text/html": [
       "<div>\n",
       "<style scoped>\n",
       "    .dataframe tbody tr th:only-of-type {\n",
       "        vertical-align: middle;\n",
       "    }\n",
       "\n",
       "    .dataframe tbody tr th {\n",
       "        vertical-align: top;\n",
       "    }\n",
       "\n",
       "    .dataframe thead th {\n",
       "        text-align: right;\n",
       "    }\n",
       "</style>\n",
       "<table border=\"1\" class=\"dataframe\">\n",
       "  <thead>\n",
       "    <tr style=\"text-align: right;\">\n",
       "      <th></th>\n",
       "      <th>Consonants</th>\n",
       "    </tr>\n",
       "  </thead>\n",
       "  <tbody>\n",
       "    <tr>\n",
       "      <th>0</th>\n",
       "      <td>gdDpLzElJ</td>\n",
       "    </tr>\n",
       "    <tr>\n",
       "      <th>1</th>\n",
       "      <td>JOMlWmI</td>\n",
       "    </tr>\n",
       "    <tr>\n",
       "      <th>2</th>\n",
       "      <td>gUMhny</td>\n",
       "    </tr>\n",
       "    <tr>\n",
       "      <th>3</th>\n",
       "      <td>PTZQLueYs</td>\n",
       "    </tr>\n",
       "    <tr>\n",
       "      <th>4</th>\n",
       "      <td>rEWcamhj</td>\n",
       "    </tr>\n",
       "  </tbody>\n",
       "</table>\n",
       "</div>"
      ],
      "text/plain": [
       "  Consonants\n",
       "0  gdDpLzElJ\n",
       "1    JOMlWmI\n",
       "2     gUMhny\n",
       "3  PTZQLueYs\n",
       "4   rEWcamhj"
      ]
     },
     "execution_count": 7,
     "metadata": {},
     "output_type": "execute_result"
    }
   ],
   "source": [
    "Consonants=pd.DataFrame(list(result.Sequence[result[\"Consonants\"]!=0]), columns = ['Consonants'])\n",
    "Consonants.to_csv(\"Consonants.csv\",index=False)\n",
    "Consonants_read=pd.read_csv(\"Consonants.csv\")\n",
    "Consonants_read.head()"
   ]
  }
 ],
 "metadata": {
  "kernelspec": {
   "display_name": "Python 3",
   "language": "python",
   "name": "python3"
  },
  "language_info": {
   "codemirror_mode": {
    "name": "ipython",
    "version": 3
   },
   "file_extension": ".py",
   "mimetype": "text/x-python",
   "name": "python",
   "nbconvert_exporter": "python",
   "pygments_lexer": "ipython3",
   "version": "3.8.3"
  }
 },
 "nbformat": 4,
 "nbformat_minor": 4
}
