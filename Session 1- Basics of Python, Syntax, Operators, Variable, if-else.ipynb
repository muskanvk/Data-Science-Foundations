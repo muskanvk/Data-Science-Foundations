{
 "cells": [
  {
   "cell_type": "markdown",
   "metadata": {
    "colab_type": "text",
    "id": "eaNq4Gmi9Qic"
   },
   "source": [
    "## Basics Of Python - Part 1 (Syntax, Operators, Variable, if-else)\n",
    "#### Topics\n",
    "1. Python basics syntax\n",
    "2. Variable Declaration\n",
    "3. Arithmetic Operators (+, -, *, /, //, %, **)\n",
    "4. Bitwise Operators (&, |, ^, >>, <<, ~)\n",
    "5. Comparison Operator (==, !=, >, <, >=, <=)\n",
    "6. Assignment Operators (=, +=, -=, /=, //= etc.)\n",
    "7. Logical Operators (and, or, not)\n",
    "8. Identity Operators (is, is not)\n",
    "9. Membership Operators (in, not in)\n",
    "10. if-else\n",
    "\n",
    "##### Note: \n",
    "1. First Clean the Evironment (Go to \"Kernel\" Menu --> \"Restart & Clean Output\"\n",
    "2. To execute the code --> Click on a cell and press cntrl + enter key"
   ]
  },
  {
   "cell_type": "markdown",
   "metadata": {
    "colab_type": "text",
    "id": "y3VrvYW2-6Ka"
   },
   "source": [
    "# 1: Lets start Python !!"
   ]
  },
  {
   "cell_type": "markdown",
   "metadata": {
    "colab_type": "text",
    "id": "KWBn1R5W0AXS"
   },
   "source": [
    "### 1.1: Hello World !!"
   ]
  },
  {
   "cell_type": "code",
   "execution_count": 1,
   "metadata": {
    "colab": {},
    "colab_type": "code",
    "id": "eikxCFcN-7AR"
   },
   "outputs": [
    {
     "name": "stdout",
     "output_type": "stream",
     "text": [
      "Hello World !!\n"
     ]
    }
   ],
   "source": [
    "#------------------------------------------------------------------------\n",
    "# 1.1: Hello World !!\n",
    "#------------------------------------------------------------------------\n",
    "print (\"Hello World !!\")\n"
   ]
  },
  {
   "cell_type": "markdown",
   "metadata": {
    "colab_type": "text",
    "id": "xfdO0Uz2_Q75"
   },
   "source": [
    "#### Assingment 1.1: WAP to print your name two times"
   ]
  },
  {
   "cell_type": "markdown",
   "metadata": {
    "colab_type": "text",
    "id": "C5AE9hUVAYR6"
   },
   "source": [
    "### 1.2: Variable declaration and print it"
   ]
  },
  {
   "cell_type": "code",
   "execution_count": 1,
   "metadata": {
    "colab": {},
    "colab_type": "code",
    "id": "F12bV_qc0AXq"
   },
   "outputs": [
    {
     "name": "stdout",
     "output_type": "stream",
     "text": [
      "300\n"
     ]
    },
    {
     "data": {
      "text/plain": [
       "int"
      ]
     },
     "execution_count": 1,
     "metadata": {},
     "output_type": "execute_result"
    }
   ],
   "source": [
    "a = 300        # Assingment; No output\n",
    "print (a)    # Print the value of a\n",
    "type(a)"
   ]
  },
  {
   "cell_type": "code",
   "execution_count": 5,
   "metadata": {
    "colab": {},
    "colab_type": "code",
    "id": "Utwv7QkJ0AXy"
   },
   "outputs": [
    {
     "data": {
      "text/plain": [
       "str"
      ]
     },
     "execution_count": 5,
     "metadata": {},
     "output_type": "execute_result"
    }
   ],
   "source": [
    "b = \"Shyam\"    # Assingment; No output\n",
    "b  # Print the value of b\n",
    "type(b)"
   ]
  },
  {
   "cell_type": "code",
   "execution_count": 6,
   "metadata": {},
   "outputs": [
    {
     "name": "stdout",
     "output_type": "stream",
     "text": [
      "10.5\n"
     ]
    },
    {
     "data": {
      "text/plain": [
       "float"
      ]
     },
     "execution_count": 6,
     "metadata": {},
     "output_type": "execute_result"
    }
   ],
   "source": [
    "c=10.5\n",
    "print(c)\n",
    "type(c)"
   ]
  },
  {
   "cell_type": "code",
   "execution_count": 8,
   "metadata": {
    "colab": {},
    "colab_type": "code",
    "id": "B2aS1dCt0AX7"
   },
   "outputs": [
    {
     "data": {
      "text/plain": [
       "'Shyam'"
      ]
     },
     "execution_count": 8,
     "metadata": {},
     "output_type": "execute_result"
    }
   ],
   "source": [
    "a = 300\n",
    "a\n",
    "b = \"Shyam\"\n",
    "b              # Print the value of b only"
   ]
  },
  {
   "cell_type": "code",
   "execution_count": 7,
   "metadata": {
    "colab": {},
    "colab_type": "code",
    "id": "5lO4Zn7L0AYK"
   },
   "outputs": [
    {
     "name": "stdout",
     "output_type": "stream",
     "text": [
      "a --> 300\n",
      "b --> Shyam\n"
     ]
    }
   ],
   "source": [
    "a = 300\n",
    "a\n",
    "b = \"Shyam\"\n",
    "b\n",
    "print (\"a -->\", a)      # Print the value of a\n",
    "print (\"b -->\", b)      # Print the value of b"
   ]
  },
  {
   "cell_type": "markdown",
   "metadata": {
    "colab_type": "text",
    "id": "ZgCi1YXm0AYc"
   },
   "source": [
    "### 1.3: Error (Indentation Error)"
   ]
  },
  {
   "cell_type": "code",
   "execution_count": 9,
   "metadata": {
    "colab": {},
    "colab_type": "code",
    "id": "bRCshshK0AYf"
   },
   "outputs": [
    {
     "name": "stdout",
     "output_type": "stream",
     "text": [
      "a --> 20\n"
     ]
    }
   ],
   "source": [
    " a = 20               # No error\n",
    "print (\"a -->\", a)\n"
   ]
  },
  {
   "cell_type": "code",
   "execution_count": 12,
   "metadata": {
    "colab": {},
    "colab_type": "code",
    "id": "9qC0PH1v0AYu"
   },
   "outputs": [
    {
     "name": "stdout",
     "output_type": "stream",
     "text": [
      "a --> 20\n"
     ]
    }
   ],
   "source": [
    "# Error - unexpected indent\n",
    " a = 20               # Error\n",
    "print (\"a -->\", a)\n"
   ]
  },
  {
   "cell_type": "code",
   "execution_count": null,
   "metadata": {
    "colab": {},
    "colab_type": "code",
    "id": "XwIMC7J70AYy"
   },
   "outputs": [],
   "source": [
    " # No Error\n",
    " a = 20              # No Error\n",
    "print (\"a -->\", a)\n"
   ]
  },
  {
   "cell_type": "code",
   "execution_count": 13,
   "metadata": {
    "colab": {},
    "colab_type": "code",
    "id": "Kei8qMwg0AY_"
   },
   "outputs": [
    {
     "ename": "IndentationError",
     "evalue": "unexpected indent (<ipython-input-13-574e8eaabdd8>, line 4)",
     "output_type": "error",
     "traceback": [
      "\u001b[1;36m  File \u001b[1;32m\"<ipython-input-13-574e8eaabdd8>\"\u001b[1;36m, line \u001b[1;32m4\u001b[0m\n\u001b[1;33m    b = 30              # Error\u001b[0m\n\u001b[1;37m    ^\u001b[0m\n\u001b[1;31mIndentationError\u001b[0m\u001b[1;31m:\u001b[0m unexpected indent\n"
     ]
    }
   ],
   "source": [
    "# Error - unexpected indent\n",
    "a = 20\n",
    "print (\"a -->\", a)\n",
    " b = 30              # Error\n",
    "print (\"b -->\", b)\n"
   ]
  },
  {
   "cell_type": "markdown",
   "metadata": {
    "colab_type": "text",
    "id": "IaiOvz8a_1XO"
   },
   "source": [
    "# 2: Different types of Operators"
   ]
  },
  {
   "cell_type": "markdown",
   "metadata": {
    "colab_type": "text",
    "id": "3onbypIO0AZI"
   },
   "source": [
    "## 2.1 Arithmetic Operators (+, -, \\*, /, //, %, **)"
   ]
  },
  {
   "cell_type": "markdown",
   "metadata": {
    "colab_type": "text",
    "id": "3IPXSw1D0AZM"
   },
   "source": [
    "### 2.1.1: Use of + - * / %"
   ]
  },
  {
   "cell_type": "code",
   "execution_count": 14,
   "metadata": {
    "colab": {},
    "colab_type": "code",
    "id": "zbLWzy_x0AZO"
   },
   "outputs": [
    {
     "name": "stdout",
     "output_type": "stream",
     "text": [
      "220 + 16 --> 236\n",
      "220 - 16 --> 204\n",
      "220 * 16 --> 3520\n",
      "220 / 16 --> 13.75\n",
      "220 % 16 --> 12\n"
     ]
    }
   ],
   "source": [
    "#------------------------------------------------------------------------\n",
    "# 2.1.1: Use of + - * / %\n",
    "#------------------------------------------------------------------------\n",
    "a = 220\n",
    "b = 16\n",
    "\n",
    "c = a + b       # Use of +\n",
    "print (a, \"+\", b, \"-->\", c)\n",
    "\n",
    "c = a - b       # Use of -\n",
    "print (a, \"-\", b, \"-->\", c)\n",
    "\n",
    "c = a * b       # Use of *\n",
    "print (a, \"*\", b, \"-->\", c)\n",
    "\n",
    "c = a / b       # Use of /\n",
    "print (a, \"/\", b, \"-->\", c)\n",
    "\n",
    "c = a % b       # Use of %\n",
    "print (a, \"%\", b, \"-->\", c)\n"
   ]
  },
  {
   "cell_type": "markdown",
   "metadata": {
    "colab_type": "text",
    "id": "4JbG9O0T0AZV"
   },
   "source": [
    "### 2.1.2: Use of / and  //"
   ]
  },
  {
   "cell_type": "code",
   "execution_count": 2,
   "metadata": {
    "colab": {},
    "colab_type": "code",
    "id": "a8y__4p80AZX"
   },
   "outputs": [
    {
     "name": "stdout",
     "output_type": "stream",
     "text": [
      "5  / 2 --> 2.5\n",
      "5 // 2 --> 2\n"
     ]
    }
   ],
   "source": [
    "#------------------------------------------------------------------------\n",
    "# 2.1.2: Use of / and  //\n",
    "#------------------------------------------------------------------------\n",
    "a = 5\n",
    "b = 2\n",
    "\n",
    "c = a / b       # Use of /\n",
    "print (a, \" /\", b, \"-->\", c)\n",
    "\n",
    "c = a // b      # Use of //\n",
    "print (a, \"//\", b, \"-->\", c)\n"
   ]
  },
  {
   "cell_type": "markdown",
   "metadata": {
    "colab_type": "text",
    "id": "4HIDZ98F0AZh"
   },
   "source": [
    "### 2.1.3: Use of ** (power)"
   ]
  },
  {
   "cell_type": "code",
   "execution_count": 16,
   "metadata": {
    "colab": {},
    "colab_type": "code",
    "id": "qWIO6bZj0AZj"
   },
   "outputs": [
    {
     "name": "stdout",
     "output_type": "stream",
     "text": [
      "9 ** 2 --> 81\n"
     ]
    }
   ],
   "source": [
    "#------------------------------------------------------------------------\n",
    "# 2.1.3: Use of ** (power)\n",
    "#------------------------------------------------------------------------\n",
    "a = 9\n",
    "b = 2\n",
    "\n",
    "c = a ** b       # Use of **\n",
    "print (a, \"**\", b, \"-->\", c)\n"
   ]
  },
  {
   "cell_type": "markdown",
   "metadata": {
    "colab_type": "text",
    "id": "oGdDlYYA0AZp"
   },
   "source": [
    "## 2.2: Bitwise Operators (&, |, ~, ^, >>, <<)"
   ]
  },
  {
   "cell_type": "markdown",
   "metadata": {
    "colab_type": "text",
    "id": "xT_Pn9eu0AZr"
   },
   "source": [
    "### 2.2.1: Use of & (and)"
   ]
  },
  {
   "cell_type": "code",
   "execution_count": 17,
   "metadata": {
    "colab": {},
    "colab_type": "code",
    "id": "SuMwRaxC0AZt"
   },
   "outputs": [
    {
     "name": "stdout",
     "output_type": "stream",
     "text": [
      "0 & 1 --> 0\n",
      "1 & 1 --> 1\n"
     ]
    }
   ],
   "source": [
    "#------------------------------------------------------------------------\n",
    "# 2.2.1: Use of & (and) --> Sets each bit to 1 if both bits are 1.\n",
    "#------------------------------------------------------------------------\n",
    "#Example 1:\n",
    "a = 0\n",
    "b = 1\n",
    "d = 1\n",
    "\n",
    "c = a & b       # Use of & \n",
    "print (a, \"&\", b, \"-->\", c)\n",
    "\n",
    "c = d & b       # Use of &\n",
    "print (d, \"&\", b, \"-->\", c)\n"
   ]
  },
  {
   "cell_type": "code",
   "execution_count": 18,
   "metadata": {
    "colab": {},
    "colab_type": "code",
    "id": "AT2mkF-r0AZz"
   },
   "outputs": [
    {
     "name": "stdout",
     "output_type": "stream",
     "text": [
      "20 & 10 --> 0\n",
      "10 & 10 --> 10\n"
     ]
    }
   ],
   "source": [
    "#Example 2:\n",
    "a = 20\n",
    "b = 10\n",
    "d = 10\n",
    "\n",
    "c = a & b       # Use of & \n",
    "print (a, \"&\", b, \"-->\", c)\n",
    "\n",
    "c = d & b       # Use of &\n",
    "print (d, \"&\", b, \"-->\", c)"
   ]
  },
  {
   "cell_type": "markdown",
   "metadata": {
    "colab_type": "text",
    "id": "y7koa57I0AZ4"
   },
   "source": [
    "### 2.2.2: Use of | (or)"
   ]
  },
  {
   "cell_type": "code",
   "execution_count": 19,
   "metadata": {
    "colab": {},
    "colab_type": "code",
    "id": "CWAmD-Fr0AZ6"
   },
   "outputs": [
    {
     "name": "stdout",
     "output_type": "stream",
     "text": [
      "0 | 1 --> 1\n",
      "1 | 1 --> 1\n"
     ]
    }
   ],
   "source": [
    "#------------------------------------------------------------------------\n",
    "# 2.2.2: Use of | (or) --> Sets each bit to 1 if one of two bits is 1.\n",
    "#------------------------------------------------------------------------\n",
    "#Example 1:\n",
    "a = 0\n",
    "b = 1\n",
    "d = 1\n",
    "\n",
    "c = a | b       # Use of |\n",
    "print (a, \"|\", b, \"-->\", c)\n",
    "\n",
    "c = d | b       # Use of |\n",
    "print (d, \"|\", b, \"-->\", c)\n"
   ]
  },
  {
   "cell_type": "code",
   "execution_count": 20,
   "metadata": {
    "colab": {},
    "colab_type": "code",
    "id": "RT98Il0W0AaC"
   },
   "outputs": [
    {
     "name": "stdout",
     "output_type": "stream",
     "text": [
      "20 | 10 --> 30\n",
      "10 | 10 --> 10\n"
     ]
    }
   ],
   "source": [
    "#Example 2:\n",
    "a = 20\n",
    "b = 10\n",
    "d = 10\n",
    "\n",
    "c = a | b       # Use of |\n",
    "print (a, \"|\", b, \"-->\", c)\n",
    "\n",
    "c = d | b       # Use of |\n",
    "print (d, \"|\", b, \"-->\", c)"
   ]
  },
  {
   "cell_type": "markdown",
   "metadata": {
    "colab_type": "text",
    "id": "Zjmqkiq40AaH"
   },
   "source": [
    "### 2.2.3: Use of ~ (not)"
   ]
  },
  {
   "cell_type": "code",
   "execution_count": 21,
   "metadata": {
    "colab": {},
    "colab_type": "code",
    "id": "3ViKmYcy0AaH"
   },
   "outputs": [
    {
     "name": "stdout",
     "output_type": "stream",
     "text": [
      "~ 0 --> -1\n",
      "~ 1 --> -2\n"
     ]
    }
   ],
   "source": [
    "#------------------------------------------------------------------------\n",
    "# 2.2.3: Use of ~ (not) --> Inverts all the bits.\n",
    "#------------------------------------------------------------------------\n",
    "#Example 1:\n",
    "a = 0\n",
    "b = 1\n",
    "\n",
    "c = ~a        # Use of ~\n",
    "print (\"~\", a, \"-->\", c)\n",
    "\n",
    "c = ~b       # Use of ~\n",
    "print (\"~\", b, \"-->\", c)\n"
   ]
  },
  {
   "cell_type": "code",
   "execution_count": 52,
   "metadata": {
    "colab": {},
    "colab_type": "code",
    "id": "-uTbmi2Q0AaM"
   },
   "outputs": [
    {
     "name": "stdout",
     "output_type": "stream",
     "text": [
      "~ 20 --> -21\n",
      "~ 10 --> -11\n"
     ]
    }
   ],
   "source": [
    "#Example 2:\n",
    "a = 20\n",
    "b = 10\n",
    "\n",
    "c = ~a        # Use of ~\n",
    "print (\"~\", a, \"-->\", c)\n",
    "\n",
    "c = ~b       # Use of ~\n",
    "print (\"~\", b, \"-->\", c)"
   ]
  },
  {
   "cell_type": "markdown",
   "metadata": {
    "colab_type": "text",
    "id": "gw1ggOXn0AaT"
   },
   "source": [
    "### 2.2.4: Use of ^ (xor)"
   ]
  },
  {
   "cell_type": "code",
   "execution_count": 22,
   "metadata": {
    "colab": {},
    "colab_type": "code",
    "id": "scXT8GYN0AaU"
   },
   "outputs": [
    {
     "name": "stdout",
     "output_type": "stream",
     "text": [
      "0 ^ 1 --> 1\n",
      "1 ^ 1 --> 0\n"
     ]
    }
   ],
   "source": [
    "#------------------------------------------------------------------------\n",
    "# 2.2.4: Use of ^ (xor) --> Sets each bit to 1 if only one of two bits is 1.\n",
    "#------------------------------------------------------------------------\n",
    "#Example 1:\n",
    "a = 0\n",
    "b = 1\n",
    "d = 1\n",
    "\n",
    "c = a ^ b       # Use of ^\n",
    "print (a, \"^\", b, \"-->\", c)\n",
    "\n",
    "c = d ^ b       # Use of ^\n",
    "print (d, \"^\", b, \"-->\", c)\n"
   ]
  },
  {
   "cell_type": "code",
   "execution_count": null,
   "metadata": {
    "colab": {},
    "colab_type": "code",
    "id": "q_UPl7OT0AaZ"
   },
   "outputs": [],
   "source": [
    "#Example 2:\n",
    "a = 20\n",
    "b = 10\n",
    "d = 10\n",
    "\n",
    "c = a ^ b       # Use of ^\n",
    "print (a, \"^\", b, \"-->\", c)\n",
    "\n",
    "c = d ^ b       # Use of ^\n",
    "print (d, \"^\", b, \"-->\", c)\n"
   ]
  },
  {
   "cell_type": "markdown",
   "metadata": {
    "colab_type": "text",
    "id": "YgR7k9si0Aag"
   },
   "source": [
    "### 2.2.5: Use  >> (shift right)"
   ]
  },
  {
   "cell_type": "code",
   "execution_count": 23,
   "metadata": {
    "colab": {},
    "colab_type": "code",
    "id": "Gh3Ohn0v0Aah"
   },
   "outputs": [
    {
     "name": "stdout",
     "output_type": "stream",
     "text": [
      "1 >> 1 --> 0\n",
      "1 >> 2 --> 0\n"
     ]
    }
   ],
   "source": [
    "#------------------------------------------------------------------------\n",
    "# 2.2.5: Use  >> (shift right) --> Shift right by pushing copies of the leftmost \n",
    "# bit in from the left, and let the rightmost bits fall off.\n",
    "#------------------------------------------------------------------------\n",
    "#Example 1:\n",
    "a = 1\n",
    "b = 1\n",
    "d = 2\n",
    "\n",
    "c = a >> b       # Use of >>\n",
    "print (a, \">>\", b, \"-->\", c)\n",
    "\n",
    "c = a >> d       # Use of >>\n",
    "print (a, \">>\", d, \"-->\", c)\n"
   ]
  },
  {
   "cell_type": "code",
   "execution_count": 24,
   "metadata": {
    "colab": {},
    "colab_type": "code",
    "id": "V7xFfYQm0Aao"
   },
   "outputs": [
    {
     "name": "stdout",
     "output_type": "stream",
     "text": [
      "20 >> 1 --> 10\n",
      "20 >> 2 --> 5\n"
     ]
    }
   ],
   "source": [
    "#Example 2:\n",
    "a = 20\n",
    "b = 1\n",
    "d = 2\n",
    "\n",
    "c = a >> b       # Use of >>\n",
    "print (a, \">>\", b, \"-->\", c)\n",
    "\n",
    "c = a >> d       # Use of >>\n",
    "print (a, \">>\", d, \"-->\", c)\n"
   ]
  },
  {
   "cell_type": "markdown",
   "metadata": {
    "colab_type": "text",
    "id": "4a-AK0c30Aat"
   },
   "source": [
    "### 2.2.6: Use  << (shift left)"
   ]
  },
  {
   "cell_type": "code",
   "execution_count": null,
   "metadata": {
    "colab": {},
    "colab_type": "code",
    "id": "-SC1w-rV0Aav"
   },
   "outputs": [],
   "source": [
    "#------------------------------------------------------------------------\n",
    "# 2.2.6: Use  << (shift left) --> Zero fill left shift\n",
    "# Shift left by pushing zeros in from the right and let the leftmost bits fall off.\n",
    "#------------------------------------------------------------------------\n",
    "#Example 1:\n",
    "a = 1\n",
    "b = 1\n",
    "d = 2\n",
    "\n",
    "c = a << b       # Use of <<\n",
    "print (a, \"<<\", b, \"-->\", c)\n",
    "\n",
    "c = a << d       # Use of <<\n",
    "print (a, \"<<\", d, \"-->\", c)\n"
   ]
  },
  {
   "cell_type": "code",
   "execution_count": 3,
   "metadata": {
    "colab": {},
    "colab_type": "code",
    "id": "RIdXcEQp0Aa3"
   },
   "outputs": [
    {
     "name": "stdout",
     "output_type": "stream",
     "text": [
      "20 << 1 --> 40\n",
      "20 << 2 --> 80\n"
     ]
    }
   ],
   "source": [
    "#Example 2:\n",
    "a = 20\n",
    "b = 1\n",
    "d = 2\n",
    "\n",
    "c = a << b       # Use of <<\n",
    "print (a, \"<<\", b, \"-->\", c)\n",
    "\n",
    "c = a << d       # Use of <<\n",
    "print (a, \"<<\", d, \"-->\", c)\n"
   ]
  },
  {
   "cell_type": "markdown",
   "metadata": {
    "colab_type": "text",
    "id": "udLqT_dv0Aa9"
   },
   "source": [
    "## 2.3: Assignment Operators (=, +=, -=, /=, //=)"
   ]
  },
  {
   "cell_type": "markdown",
   "metadata": {
    "colab_type": "text",
    "id": "HmgNI1TQ0Aa_"
   },
   "source": [
    "### 2.3.1: Use of +="
   ]
  },
  {
   "cell_type": "code",
   "execution_count": 25,
   "metadata": {
    "colab": {},
    "colab_type": "code",
    "id": "mW91XYAG0AbA"
   },
   "outputs": [
    {
     "name": "stdout",
     "output_type": "stream",
     "text": [
      "a  = 20\n",
      "a += 10 --> 30\n"
     ]
    }
   ],
   "source": [
    "#------------------------------------------------------------------------\n",
    "# 2.3.1: Use of +=\n",
    "#------------------------------------------------------------------------\n",
    "a = 20\n",
    "print (\"a  =\", a)\n",
    "\n",
    "a += 10    \n",
    "print (\"a += 10 -->\", a)\n"
   ]
  },
  {
   "cell_type": "markdown",
   "metadata": {
    "colab_type": "text",
    "id": "LRhzYVRu0AbE"
   },
   "source": [
    "### 2.3.2: Use of -="
   ]
  },
  {
   "cell_type": "code",
   "execution_count": 26,
   "metadata": {
    "colab": {},
    "colab_type": "code",
    "id": "qY57W-920AbI"
   },
   "outputs": [
    {
     "name": "stdout",
     "output_type": "stream",
     "text": [
      "a  = 20\n",
      "a -= 10 --> 10\n"
     ]
    }
   ],
   "source": [
    "#------------------------------------------------------------------------\n",
    "# 2.3.2: Use of -=\n",
    "#------------------------------------------------------------------------\n",
    "a = 20\n",
    "print (\"a  =\", a)\n",
    "\n",
    "a -= 10    \n",
    "print (\"a -= 10 -->\", a)\n"
   ]
  },
  {
   "cell_type": "markdown",
   "metadata": {
    "colab_type": "text",
    "id": "NakoZD0v0AbN"
   },
   "source": [
    "### 2.3.3: Use of *="
   ]
  },
  {
   "cell_type": "code",
   "execution_count": 27,
   "metadata": {
    "colab": {},
    "colab_type": "code",
    "id": "XBo2XjeV0AbT"
   },
   "outputs": [
    {
     "name": "stdout",
     "output_type": "stream",
     "text": [
      "a  = 20\n",
      "a *= 10 --> 200\n"
     ]
    }
   ],
   "source": [
    "#------------------------------------------------------------------------\n",
    "# 2.3.3: Use of *=\n",
    "#------------------------------------------------------------------------\n",
    "a = 20\n",
    "print (\"a  =\", a)\n",
    "\n",
    "a *= 10\n",
    "print (\"a *= 10 -->\", a)\n"
   ]
  },
  {
   "cell_type": "markdown",
   "metadata": {
    "colab_type": "text",
    "id": "6FiBSHHL0Aba"
   },
   "source": [
    "### 2.3.4: Use of /= and //="
   ]
  },
  {
   "cell_type": "code",
   "execution_count": 28,
   "metadata": {
    "colab": {},
    "colab_type": "code",
    "id": "uSDOkuL80Abb"
   },
   "outputs": [
    {
     "name": "stdout",
     "output_type": "stream",
     "text": [
      "\n",
      " a  = 20\n",
      " a /= 10  --> 2.0\n",
      "\n",
      " a   = 20\n",
      " a //= 10 --> 2\n"
     ]
    }
   ],
   "source": [
    "#------------------------------------------------------------------------\n",
    "# 2.3.4: Use of /= and //=\n",
    "#------------------------------------------------------------------------\n",
    "a = 20\n",
    "print (\"\\n a  =\", a)\n",
    "\n",
    "a /= 10    \n",
    "print (\" a /= 10  -->\", a)\n",
    "\n",
    "a = 20\n",
    "print (\"\\n a   =\", a)\n",
    "\n",
    "a //= 10    \n",
    "print (\" a //= 10 -->\", a)\n"
   ]
  },
  {
   "cell_type": "markdown",
   "metadata": {
    "colab_type": "text",
    "id": "2370SaUuD5C0"
   },
   "source": [
    "# 3: Input from user"
   ]
  },
  {
   "cell_type": "markdown",
   "metadata": {
    "colab_type": "text",
    "id": "EomBo6nS0Abk"
   },
   "source": [
    "### 3.1: Input from user and print it"
   ]
  },
  {
   "cell_type": "code",
   "execution_count": 32,
   "metadata": {
    "colab": {},
    "colab_type": "code",
    "id": "_2b0qoVd0Abl"
   },
   "outputs": [
    {
     "name": "stdout",
     "output_type": "stream",
     "text": [
      "Enter Anything(Name/Numer): 5\n",
      "\n",
      "Your Input is           --> 5\n",
      "10\n"
     ]
    }
   ],
   "source": [
    "#------------------------------------------------------------------------\n",
    "# 3.1: Input from user and print it\n",
    "#------------------------------------------------------------------------\n",
    "a = int(input(\"Enter Anything(Name/Numer): \"))\n",
    "print(\"\\nYour Input is           -->\",a)\n",
    "print(a+5)\n"
   ]
  },
  {
   "cell_type": "markdown",
   "metadata": {
    "colab_type": "text",
    "id": "SX3Dg3wc0Abp"
   },
   "source": [
    "### 3.2: Concatinate two strings"
   ]
  },
  {
   "cell_type": "code",
   "execution_count": 34,
   "metadata": {
    "colab": {},
    "colab_type": "code",
    "id": "Dp8Tr0bB0Abr"
   },
   "outputs": [
    {
     "name": "stdout",
     "output_type": "stream",
     "text": [
      "Enter First String : 3\n",
      "Enter Second String: 4\n",
      "\n",
      "3 + 4 --> 34\n"
     ]
    }
   ],
   "source": [
    "#------------------------------------------------------------------------\n",
    "# 3.2: Concatinate two strings\n",
    "#------------------------------------------------------------------------\n",
    "a = input(\"Enter First String : \")\n",
    "b = input(\"Enter Second String: \")\n",
    "c = a + b  # concatinate two strings\n",
    "print(\"\")\n",
    "print(a, \"+\", b, \"-->\", c)\n"
   ]
  },
  {
   "cell_type": "markdown",
   "metadata": {
    "colab_type": "text",
    "id": "9vk9LYPm0Ab1"
   },
   "source": [
    "#### Re-Run the above code and input two numbers"
   ]
  },
  {
   "cell_type": "markdown",
   "metadata": {
    "colab_type": "text",
    "id": "lmxg4i8Y0Ab2"
   },
   "source": [
    "### 3.3: Input two numbers from user and add them"
   ]
  },
  {
   "cell_type": "code",
   "execution_count": 35,
   "metadata": {
    "colab": {},
    "colab_type": "code",
    "id": "SHf37PIX0Ab4"
   },
   "outputs": [
    {
     "name": "stdout",
     "output_type": "stream",
     "text": [
      "Enter First No : 3\n",
      "Enter Second No: 4\n",
      "\n",
      "3 + 4 --> 7\n"
     ]
    }
   ],
   "source": [
    "#------------------------------------------------------------------------\n",
    "# 3.3: Input two numbers from user and add them\n",
    "#------------------------------------------------------------------------\n",
    "a = int(input(\"Enter First No : \"))\n",
    "b = int(input(\"Enter Second No: \"))\n",
    "c = a + b\n",
    "print (\"\")\n",
    "print (a, \"+\", b, \"-->\", c)\n"
   ]
  },
  {
   "cell_type": "markdown",
   "metadata": {
    "colab_type": "text",
    "id": "ARBarpZ90Ab8"
   },
   "source": [
    "### 3.4: Concatinate String and Number"
   ]
  },
  {
   "cell_type": "markdown",
   "metadata": {
    "colab_type": "text",
    "id": "GdumdC7r0Ab8"
   },
   "source": [
    "#### 3.4.1 Concatinate String and Number "
   ]
  },
  {
   "cell_type": "code",
   "execution_count": 36,
   "metadata": {
    "colab": {},
    "colab_type": "code",
    "id": "Tiquuk3O0Ab-"
   },
   "outputs": [
    {
     "ename": "TypeError",
     "evalue": "can only concatenate str (not \"int\") to str",
     "output_type": "error",
     "traceback": [
      "\u001b[1;31m---------------------------------------------------------------------------\u001b[0m",
      "\u001b[1;31mTypeError\u001b[0m                                 Traceback (most recent call last)",
      "\u001b[1;32m<ipython-input-36-a1329e69ce4a>\u001b[0m in \u001b[0;36m<module>\u001b[1;34m\u001b[0m\n\u001b[0;32m      2\u001b[0m \u001b[1;31m# 3.4.1: Concatinate String and Number\u001b[0m\u001b[1;33m\u001b[0m\u001b[1;33m\u001b[0m\u001b[1;33m\u001b[0m\u001b[0m\n\u001b[0;32m      3\u001b[0m \u001b[1;31m#------------------------------------------------------------------------\u001b[0m\u001b[1;33m\u001b[0m\u001b[1;33m\u001b[0m\u001b[1;33m\u001b[0m\u001b[0m\n\u001b[1;32m----> 4\u001b[1;33m \u001b[0mc\u001b[0m \u001b[1;33m=\u001b[0m \u001b[1;34m\"Ram\"\u001b[0m \u001b[1;33m+\u001b[0m \u001b[1;36m10\u001b[0m   \u001b[1;31m# Error: Different data type\u001b[0m\u001b[1;33m\u001b[0m\u001b[1;33m\u001b[0m\u001b[0m\n\u001b[0m\u001b[0;32m      5\u001b[0m \u001b[0mprint\u001b[0m \u001b[1;33m(\u001b[0m\u001b[0mc\u001b[0m\u001b[1;33m)\u001b[0m\u001b[1;33m\u001b[0m\u001b[1;33m\u001b[0m\u001b[0m\n",
      "\u001b[1;31mTypeError\u001b[0m: can only concatenate str (not \"int\") to str"
     ]
    }
   ],
   "source": [
    "#------------------------------------------------------------------------\n",
    "# 3.4.1: Concatinate String and Number \n",
    "#------------------------------------------------------------------------\n",
    "c = \"Ram\" + 10   # Error: Different data type\n",
    "print (c)\n"
   ]
  },
  {
   "cell_type": "markdown",
   "metadata": {
    "colab_type": "text",
    "id": "CASyLF2Z0AcB"
   },
   "source": [
    "#### 3.4.2: Concatinate String and Number"
   ]
  },
  {
   "cell_type": "code",
   "execution_count": 37,
   "metadata": {
    "colab": {},
    "colab_type": "code",
    "id": "AnpOcUFq0AcC"
   },
   "outputs": [
    {
     "name": "stdout",
     "output_type": "stream",
     "text": [
      "c --> Ram10\n"
     ]
    }
   ],
   "source": [
    "#------------------------------------------------------------------------\n",
    "# 3.4.2: Concatinate String and Number\n",
    "#------------------------------------------------------------------------\n",
    "c = \"Ram\" + \"10\"\n",
    "print (\"c -->\",c)\n"
   ]
  },
  {
   "cell_type": "markdown",
   "metadata": {
    "colab_type": "text",
    "id": "eIFYKJNH0AcF"
   },
   "source": [
    "#### 3.4.3: Concatinate String and Number"
   ]
  },
  {
   "cell_type": "code",
   "execution_count": null,
   "metadata": {
    "colab": {},
    "colab_type": "code",
    "id": "-m1c-4pB0AcG"
   },
   "outputs": [],
   "source": [
    "#------------------------------------------------------------------------\n",
    "# 3.4.3: Concatinate String and Number\n",
    "#------------------------------------------------------------------------\n",
    "a = 10\n",
    "b = \"Ram\"\n",
    "c = a + b         # Error: Different data type\n",
    "print (a, \"+\", b, \"-->\", c)\n"
   ]
  },
  {
   "cell_type": "markdown",
   "metadata": {
    "colab_type": "text",
    "id": "3kaGzFWu0AcK"
   },
   "source": [
    "#### 3.4.4: Concatinate String and Number"
   ]
  },
  {
   "cell_type": "code",
   "execution_count": 38,
   "metadata": {
    "colab": {},
    "colab_type": "code",
    "id": "J1joZLgl0AcK"
   },
   "outputs": [
    {
     "name": "stdout",
     "output_type": "stream",
     "text": [
      "10 + Ram --> 10Ram\n"
     ]
    }
   ],
   "source": [
    "#------------------------------------------------------------------------\n",
    "# 3.4.4: Concatinate String and Number\n",
    "#------------------------------------------------------------------------\n",
    "a = 10\n",
    "b = \"Ram\"\n",
    "c = str(a) + b\n",
    "\n",
    "print (a, \"+\", b, \"-->\", c)\n"
   ]
  },
  {
   "cell_type": "markdown",
   "metadata": {
    "colab_type": "text",
    "id": "-vzqvOHO0AcN"
   },
   "source": [
    "#### Assingment 3.1: WAP to add three numbers, inputs from user and print result\n",
    "#### Assingment 3.2: WAP to concatinate three strings, inputs from user and print\n"
   ]
  },
  {
   "cell_type": "markdown",
   "metadata": {
    "colab_type": "text",
    "id": "joVqzYL-0AcO"
   },
   "source": [
    "# 4: If-Else - Conditional Checking"
   ]
  },
  {
   "cell_type": "markdown",
   "metadata": {
    "colab_type": "text",
    "id": "aJK_CeT30AcP"
   },
   "source": [
    "### 4.1: Input two numbers from user and compare them"
   ]
  },
  {
   "cell_type": "code",
   "execution_count": 39,
   "metadata": {
    "colab": {},
    "colab_type": "code",
    "id": "63qiU_wx0AcQ"
   },
   "outputs": [
    {
     "name": "stdout",
     "output_type": "stream",
     "text": [
      "Enter First No: 5\n",
      "Enter Second No: 6\n",
      "5 < 6\n"
     ]
    }
   ],
   "source": [
    "#------------------------------------------------------------------------\n",
    "# 4.1: Input two numbers from user and compare them\n",
    "#------------------------------------------------------------------------\n",
    "a = int(input(\"Enter First No: \"))\n",
    "b = int(input(\"Enter Second No: \"))\n",
    "if  a > b: \n",
    "    print (a,\">\",b)\n",
    "else:\n",
    "    print (a,\"<\",b)\n",
    "    "
   ]
  },
  {
   "cell_type": "code",
   "execution_count": 40,
   "metadata": {
    "colab": {},
    "colab_type": "code",
    "id": "ofsjGQQ40AcV"
   },
   "outputs": [
    {
     "name": "stdout",
     "output_type": "stream",
     "text": [
      "False\n",
      "True\n"
     ]
    }
   ],
   "source": [
    "a = 10\n",
    "b = 20 \n",
    "print (a == b)\n",
    "print (a != b)\n"
   ]
  },
  {
   "cell_type": "markdown",
   "metadata": {
    "colab_type": "text",
    "id": "acyL3IHg0Aca"
   },
   "source": [
    "### 4.2: Check weather a number is odd or even:"
   ]
  },
  {
   "cell_type": "code",
   "execution_count": 42,
   "metadata": {
    "colab": {},
    "colab_type": "code",
    "id": "RY890ofG0Acb"
   },
   "outputs": [
    {
     "name": "stdout",
     "output_type": "stream",
     "text": [
      "Enter a Number: 6\n",
      "6 is even\n"
     ]
    }
   ],
   "source": [
    "#------------------------------------------------------------------------\n",
    "# 4.2: Check weather a number is odd or even:\n",
    "#------------------------------------------------------------------------\n",
    "#Example 1:\n",
    "n = int(input(\"Enter a Number: \"))\n",
    "if  n % 2 == 0: \n",
    "    print (n, \"is even\")\n",
    "else:\n",
    "    print (n, \"is odd\")\n"
   ]
  },
  {
   "cell_type": "code",
   "execution_count": null,
   "metadata": {
    "colab": {},
    "colab_type": "code",
    "id": "iSPr9K-U0Ace"
   },
   "outputs": [],
   "source": [
    "#Example 2:\n",
    "n = int(input(\"Enter a Number: \"))\n",
    "if  n % 2 != 0: \n",
    "    print (n,\"is odd\")\n",
    "else:\n",
    "    print (n,\"is even\")\n"
   ]
  },
  {
   "cell_type": "markdown",
   "metadata": {
    "colab_type": "text",
    "id": "NA5cKfbm0Aci"
   },
   "source": [
    "### 4.3: Conditional Checking - Compare strings"
   ]
  },
  {
   "cell_type": "code",
   "execution_count": 44,
   "metadata": {
    "colab": {},
    "colab_type": "code",
    "id": "lyKMQRKh0Acj"
   },
   "outputs": [
    {
     "name": "stdout",
     "output_type": "stream",
     "text": [
      "Enter First String: pp\n",
      "Enter Second String: ss\n",
      "a < b\n"
     ]
    }
   ],
   "source": [
    "#------------------------------------------------------------------------\n",
    "# 4.3: Conditional Checking - Compare strings\n",
    "#------------------------------------------------------------------------\n",
    "a = input(\"Enter First String: \")\n",
    "b = input(\"Enter Second String: \")\n",
    "\n",
    "if a == b: \n",
    "    print (\"a == b\")\n",
    "elif a >= b: \n",
    "    print (\"a > b\")\n",
    "else:\n",
    "    print (\"a < b\")\n",
    "    x=70                   # in the else block\n",
    "    y=80                   # in the else block\n",
    "z=90                       # Out of the else block\n"
   ]
  },
  {
   "cell_type": "markdown",
   "metadata": {
    "colab_type": "text",
    "id": "vM206T150Acl"
   },
   "source": [
    "### 4.4: Logical Operators (and, or, not)"
   ]
  },
  {
   "cell_type": "markdown",
   "metadata": {
    "colab_type": "text",
    "id": "Dwj0K5A50Acn"
   },
   "source": [
    "#### 4.4.1: Use of and"
   ]
  },
  {
   "cell_type": "code",
   "execution_count": 45,
   "metadata": {
    "colab": {},
    "colab_type": "code",
    "id": "NLB5eOTH0Acn"
   },
   "outputs": [
    {
     "name": "stdout",
     "output_type": "stream",
     "text": [
      "Accepted\n"
     ]
    }
   ],
   "source": [
    "#------------------------------------------------------------------------\n",
    "# 4.4.1: Use of and\n",
    "#------------------------------------------------------------------------\n",
    "a = 10\n",
    "b = 20\n",
    "\n",
    "if a == 10 and b == 20: \n",
    "    print (\"Accepted\")\n",
    "elif a >= b: \n",
    "    print (\"Rejected\")\n",
    "else:\n",
    "    print (\"On Hold\")\n"
   ]
  },
  {
   "cell_type": "markdown",
   "metadata": {
    "colab_type": "text",
    "id": "KEMD82JL0Acq"
   },
   "source": [
    "#### 4.4.2: Use of and"
   ]
  },
  {
   "cell_type": "code",
   "execution_count": 46,
   "metadata": {
    "colab": {},
    "colab_type": "code",
    "id": "6uuknBSP0Acr"
   },
   "outputs": [
    {
     "name": "stdout",
     "output_type": "stream",
     "text": [
      "a and b --> 0\n",
      "a  &  b --> 0\n"
     ]
    }
   ],
   "source": [
    "#------------------------------------------------------------------------\n",
    "# 4.4.2: Use of and\n",
    "#------------------------------------------------------------------------\n",
    "a = 0\n",
    "b = 0 \n",
    "print (\"a and b -->\", a and b)\n",
    "print (\"a  &  b -->\", a & b)"
   ]
  },
  {
   "cell_type": "markdown",
   "metadata": {
    "colab_type": "text",
    "id": "blO9vmT20Acw"
   },
   "source": [
    "#### Re-Run the above code with a=1 and b=0 | a=0 and b=1 | a=1 and b=1"
   ]
  },
  {
   "cell_type": "markdown",
   "metadata": {
    "colab_type": "text",
    "id": "0ihdLwOP0Acx"
   },
   "source": [
    "#### 4.4.3: Use of and "
   ]
  },
  {
   "cell_type": "code",
   "execution_count": 47,
   "metadata": {
    "colab": {},
    "colab_type": "code",
    "id": "p4rfeXPc0Acy"
   },
   "outputs": [
    {
     "name": "stdout",
     "output_type": "stream",
     "text": [
      "a and b --> 10\n",
      "a  &  b --> 0\n"
     ]
    }
   ],
   "source": [
    "#------------------------------------------------------------------------\n",
    "# 4.4.3: Use of and \n",
    "#------------------------------------------------------------------------\n",
    "a = 20\n",
    "b = 10 \n",
    "print (\"a and b -->\", a and b)\n",
    "print (\"a  &  b -->\", a & b)"
   ]
  },
  {
   "cell_type": "markdown",
   "metadata": {
    "colab_type": "text",
    "id": "TInZXo520AdG"
   },
   "source": [
    "#### Re-Run the above code with a = 10 and b = 20 | a = 10 and b = 0 | a = 0 and b = 20 | a = 1 and b = 20"
   ]
  },
  {
   "cell_type": "markdown",
   "metadata": {
    "colab_type": "text",
    "id": "fd5vLDuJ0AdG"
   },
   "source": [
    "#### 4.4.4: Use of or"
   ]
  },
  {
   "cell_type": "code",
   "execution_count": 48,
   "metadata": {
    "colab": {},
    "colab_type": "code",
    "id": "dy8Rq3Nl0AdH"
   },
   "outputs": [
    {
     "name": "stdout",
     "output_type": "stream",
     "text": [
      "Accepted\n"
     ]
    }
   ],
   "source": [
    "#------------------------------------------------------------------------\n",
    "# 4.4.4: Use of or\n",
    "#------------------------------------------------------------------------\n",
    "a = 10\n",
    "b = 20\n",
    "\n",
    "if a == 20 or b == 20: \n",
    "    print (\"Accepted\")\n",
    "else: \n",
    "    print (\"Rejected\")\n"
   ]
  },
  {
   "cell_type": "markdown",
   "metadata": {
    "colab_type": "text",
    "id": "_3AX35AR0AdM"
   },
   "source": [
    "#### 4.4.5: Use of or"
   ]
  },
  {
   "cell_type": "code",
   "execution_count": null,
   "metadata": {
    "colab": {},
    "colab_type": "code",
    "id": "oYCI2Jz70AdN"
   },
   "outputs": [],
   "source": [
    "#------------------------------------------------------------------------\n",
    "# 4.4.5: Use of or\n",
    "#------------------------------------------------------------------------\n",
    "a = 0\n",
    "b = 0 \n",
    "print (\"a or b -->\", a or b)\n",
    "print (\"a  | b -->\", a | b)"
   ]
  },
  {
   "cell_type": "markdown",
   "metadata": {
    "colab_type": "text",
    "id": "aq8igH2n0AdT"
   },
   "source": [
    "#### Re-Run the above code with a=1 and b=0 | a=0 and b=1 | a=1 and b=1"
   ]
  },
  {
   "cell_type": "markdown",
   "metadata": {
    "colab_type": "text",
    "id": "Y-4zpRU40AdV"
   },
   "source": [
    "#### 4.4.6: Use of or"
   ]
  },
  {
   "cell_type": "code",
   "execution_count": null,
   "metadata": {
    "colab": {},
    "colab_type": "code",
    "id": "A1QS4bkb0AdW"
   },
   "outputs": [],
   "source": [
    "#------------------------------------------------------------------------\n",
    "# 4.4.6: Use of or\n",
    "#------------------------------------------------------------------------\n",
    "a = 10\n",
    "b = 20 \n",
    "print (\"a or b -->\", a or b)\n",
    "print (\"a  | b -->\", a | b)\n"
   ]
  },
  {
   "cell_type": "markdown",
   "metadata": {
    "colab_type": "text",
    "id": "Vno_IpQc0Ada"
   },
   "source": [
    "#### Re-Run the above code with a = 10 and b = 0 | a = 0 and b = 20 | a = 1 and b = 20"
   ]
  },
  {
   "cell_type": "markdown",
   "metadata": {
    "colab_type": "text",
    "id": "A1HiEE2u0Ada"
   },
   "source": [
    "#### 4.4.7: Use of not"
   ]
  },
  {
   "cell_type": "code",
   "execution_count": 49,
   "metadata": {
    "colab": {},
    "colab_type": "code",
    "id": "saplo10N0Adb"
   },
   "outputs": [
    {
     "name": "stdout",
     "output_type": "stream",
     "text": [
      "a     --> True\n",
      "not a --> False\n"
     ]
    }
   ],
   "source": [
    "#------------------------------------------------------------------------\n",
    "# 4.4.7: Use of not\n",
    "#------------------------------------------------------------------------\n",
    "#Example 1:\n",
    "a = True\n",
    "print(\"a     -->\", a)\n",
    "print(\"not a -->\", not a)\n"
   ]
  },
  {
   "cell_type": "code",
   "execution_count": null,
   "metadata": {
    "colab": {},
    "colab_type": "code",
    "id": "3YI7kI5a0Adg"
   },
   "outputs": [],
   "source": [
    "#Example 2:\n",
    "a = 1\n",
    "print(\"a     -->\", a)\n",
    "print(\"not a -->\", not a)\n"
   ]
  },
  {
   "cell_type": "markdown",
   "metadata": {
    "colab_type": "text",
    "id": "C1lEBveh0Adh"
   },
   "source": [
    "#### Re-Run the above code with a=0 | a=10 | a=20"
   ]
  },
  {
   "cell_type": "markdown",
   "metadata": {
    "colab_type": "text",
    "id": "uZNqtd2R0Adi"
   },
   "source": [
    "### 4.5: Identity Operators (is, is not)"
   ]
  },
  {
   "cell_type": "code",
   "execution_count": 50,
   "metadata": {
    "colab": {},
    "colab_type": "code",
    "id": "rf-yBB1Q0Adi"
   },
   "outputs": [
    {
     "name": "stdout",
     "output_type": "stream",
     "text": [
      "a is a     --> True\n",
      "a is not a --> False\n",
      "\n",
      "a is b     --> False\n",
      "a is not b --> True\n"
     ]
    }
   ],
   "source": [
    "#------------------------------------------------------------------------\n",
    "# 4.5: Identity Operators (is, is not)\n",
    "#------------------------------------------------------------------------\n",
    "a = 10\n",
    "b = 20\n",
    "print (\"a is a     -->\", a is a)\n",
    "print (\"a is not a -->\", a is not a)\n",
    "print(\"\")\n",
    "print (\"a is b     -->\", a is b)\n",
    "print (\"a is not b -->\", a is not b)\n"
   ]
  },
  {
   "cell_type": "markdown",
   "metadata": {
    "colab_type": "text",
    "id": "rCYQ9gxy0Adn"
   },
   "source": [
    "### 4.6: Membership Operators (in, not in)"
   ]
  },
  {
   "cell_type": "code",
   "execution_count": 51,
   "metadata": {
    "colab": {},
    "colab_type": "code",
    "id": "yISpMtjL0Adn"
   },
   "outputs": [
    {
     "name": "stdout",
     "output_type": "stream",
     "text": [
      "10 in a     --> True\n",
      "40 in a     --> False\n",
      "\n",
      "10 not in a --> False\n",
      "40 not in a --> True\n"
     ]
    }
   ],
   "source": [
    "#------------------------------------------------------------------------\n",
    "# 4.6: Membership Operators (in, not in)\n",
    "#------------------------------------------------------------------------\n",
    "a = [10, 20, 30]\n",
    "\n",
    "print (\"10 in a     -->\",10 in a)\n",
    "print (\"40 in a     -->\",40 in a)\n",
    "\n",
    "print (\"\")\n",
    "print (\"10 not in a -->\",10 not in a)\n",
    "print (\"40 not in a -->\",40 not in a)\n"
   ]
  }
 ],
 "metadata": {
  "colab": {
   "collapsed_sections": [],
   "name": "Day02 - Basics of Python, Syntax, Operators, Variable, if-else.ipynb",
   "provenance": []
  },
  "kernelspec": {
   "display_name": "Python 3",
   "language": "python",
   "name": "python3"
  },
  "language_info": {
   "codemirror_mode": {
    "name": "ipython",
    "version": 3
   },
   "file_extension": ".py",
   "mimetype": "text/x-python",
   "name": "python",
   "nbconvert_exporter": "python",
   "pygments_lexer": "ipython3",
   "version": "3.8.3"
  }
 },
 "nbformat": 4,
 "nbformat_minor": 1
}
