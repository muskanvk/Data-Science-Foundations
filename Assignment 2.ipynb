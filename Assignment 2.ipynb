{
 "cells": [
  {
   "cell_type": "raw",
   "metadata": {},
   "source": [
    "# PCS 110 Data Science Foundations Assignment"
   ]
  },
  {
   "cell_type": "raw",
   "metadata": {},
   "source": [
    " Name : Muskan Kumar                                                                                    Roll No : 802032027 "
   ]
  },
  {
   "cell_type": "code",
   "execution_count": 3,
   "metadata": {},
   "outputs": [
    {
     "name": "stdout",
     "output_type": "stream",
     "text": [
      "Enter a number: 12\n",
      "Not a palindrome!\n"
     ]
    }
   ],
   "source": [
    "#1. Python Program to check whether a given number is a palindrome.\n",
    "\n",
    "#Approach 1\n",
    "num=int(input(\"Enter a number: \")) #Taking input from the user\n",
    "var=num  \n",
    "c=0\n",
    "while(num>0):  #reversing the number\n",
    "    rem=num%10\n",
    "    c=c*10+rem\n",
    "    num=num//10\n",
    "if(var==c):   #comparing reversed number with the number itself\n",
    "    print(\"The number is Palindrome\")\n",
    "else:\n",
    "    print(\"Not a Palindrome\")\n"
   ]
  },
  {
   "cell_type": "code",
   "execution_count": 7,
   "metadata": {},
   "outputs": [
    {
     "name": "stdout",
     "output_type": "stream",
     "text": [
      "Enter the number: 12321\n",
      "The number is a Palindrome\n"
     ]
    }
   ],
   "source": [
    "#Approach 2 \n",
    "num = input(\"Enter the number: \")\n",
    "if (num == num[::-1]): #comparing string indices\n",
    "    print(\"The number is a Palindrome\")\n",
    "else:\n",
    "    print(\"Not a Palindrome\")"
   ]
  },
  {
   "cell_type": "code",
   "execution_count": 1,
   "metadata": {},
   "outputs": [
    {
     "name": "stdout",
     "output_type": "stream",
     "text": [
      "Enter an integer: 34\n",
      "Smallest divisor is: 2\n"
     ]
    }
   ],
   "source": [
    "#2. Python Program to find the smallest divisor of an integer\n",
    "\n",
    "n=int(input(\"Enter an integer: \"))\n",
    "a=[] \n",
    "for i in range(2,n+1): \n",
    "    if(n%i==0):  #Anything that divides the number will be a divisor\n",
    "        a.append(i)\n",
    "a.sort() #sorting the list\n",
    "print(\"Smallest divisor is:\",a[0]) #first element of the sortest list will be the smallest element "
   ]
  },
  {
   "cell_type": "code",
   "execution_count": 16,
   "metadata": {},
   "outputs": [
    {
     "name": "stdout",
     "output_type": "stream",
     "text": [
      "Enter an integer: 32\n",
      "The divisors of 32 are [2, 4, 8, 16, 32]\n"
     ]
    }
   ],
   "source": [
    "#3. Python Program to generate all the divisors of an integer.\n",
    "\n",
    "#Approach 1\n",
    "\n",
    "num=int(input(\"Enter an integer: \"))\n",
    "a=[] \n",
    "for i in range(2,num+1): \n",
    "    if(num%i==0):  #Anything that divides the number will be a divisor\n",
    "        a.append(i)\n",
    "print(\"The divisors of {} are\".format(num),a)\n"
   ]
  },
  {
   "cell_type": "code",
   "execution_count": 17,
   "metadata": {},
   "outputs": [
    {
     "name": "stdout",
     "output_type": "stream",
     "text": [
      "Enter a number : 32\n",
      "The smallest divisor for 32 is 2\n"
     ]
    }
   ],
   "source": [
    "#Approach 2\n",
    "\n",
    "num = int(input(\"Enter a number : \"))\n",
    "\n",
    "for i in range(2, num+1):\n",
    "    \n",
    "    if (num % i == 0):\n",
    "        print (\"The smallest divisor for {} is {}\".format(num, i))\n",
    "        break"
   ]
  },
  {
   "cell_type": "code",
   "execution_count": 18,
   "metadata": {},
   "outputs": [
    {
     "name": "stdout",
     "output_type": "stream",
     "text": [
      "Enter the number:34.56\n"
     ]
    },
    {
     "ename": "ValueError",
     "evalue": "invalid literal for int() with base 10: '34.56'",
     "output_type": "error",
     "traceback": [
      "\u001b[1;31m---------------------------------------------------------------------------\u001b[0m",
      "\u001b[1;31mValueError\u001b[0m                                Traceback (most recent call last)",
      "\u001b[1;32m<ipython-input-18-fb55d72c2a32>\u001b[0m in \u001b[0;36m<module>\u001b[1;34m\u001b[0m\n\u001b[0;32m      1\u001b[0m \u001b[1;31m#4. Python Program to form an integer that has the number of digits at the ten’s place and the least significant digit in the one’s place.\u001b[0m\u001b[1;33m\u001b[0m\u001b[1;33m\u001b[0m\u001b[1;33m\u001b[0m\u001b[0m\n\u001b[1;32m----> 2\u001b[1;33m \u001b[0mn\u001b[0m\u001b[1;33m=\u001b[0m\u001b[0mint\u001b[0m\u001b[1;33m(\u001b[0m\u001b[0minput\u001b[0m\u001b[1;33m(\u001b[0m\u001b[1;34m\"Enter the number:\"\u001b[0m\u001b[1;33m)\u001b[0m\u001b[1;33m)\u001b[0m\u001b[1;33m\u001b[0m\u001b[1;33m\u001b[0m\u001b[0m\n\u001b[0m\u001b[0;32m      3\u001b[0m \u001b[0mtmp\u001b[0m\u001b[1;33m=\u001b[0m\u001b[0mn\u001b[0m\u001b[1;33m\u001b[0m\u001b[1;33m\u001b[0m\u001b[0m\n\u001b[0;32m      4\u001b[0m \u001b[0mk\u001b[0m\u001b[1;33m=\u001b[0m\u001b[1;36m0\u001b[0m\u001b[1;33m\u001b[0m\u001b[1;33m\u001b[0m\u001b[0m\n\u001b[0;32m      5\u001b[0m \u001b[1;32mwhile\u001b[0m\u001b[1;33m(\u001b[0m\u001b[0mn\u001b[0m\u001b[1;33m>\u001b[0m\u001b[1;36m0\u001b[0m\u001b[1;33m)\u001b[0m\u001b[1;33m:\u001b[0m\u001b[1;33m\u001b[0m\u001b[1;33m\u001b[0m\u001b[0m\n",
      "\u001b[1;31mValueError\u001b[0m: invalid literal for int() with base 10: '34.56'"
     ]
    }
   ],
   "source": [
    "#4. Python Program to form an integer that has the number of digits at the ten’s place and the least significant digit in the one’s place.\n",
    "n=int(input(\"Enter the number:\"))\n",
    "tmp=n\n",
    "k=0\n",
    "while(n>0):\n",
    "    k=k+1\n",
    "    n=n//10\n",
    "b=str(tmp)\n",
    "c=str(k)\n",
    "d=c+b[k-1]\n",
    "print(\"The new number formed:\",int(d))"
   ]
  },
  {
   "cell_type": "code",
   "execution_count": 29,
   "metadata": {},
   "outputs": [
    {
     "name": "stdout",
     "output_type": "stream",
     "text": [
      "Enter the number of rows : 4\n",
      "         1\n",
      "       1   1\n",
      "     1   2   1\n",
      "   1   3   3   1\n"
     ]
    }
   ],
   "source": [
    "#5. Python Program to print the pascal’s triangle for n number of rows given by the user.\n",
    "\n",
    "#Approach 1 using Recursion(factorial)\n",
    "\n",
    "def fact(n):\n",
    "    res=1\n",
    "    for c in range(1,n+1):\n",
    "        res = res*c\n",
    "    \n",
    "    return res\n",
    "\n",
    "rows = int(input(\"Enter the number of rows : \"))\n",
    "\n",
    "for i in range(0, rows):\n",
    "    for j in range(1, rows-i):\n",
    "        print(\"  \", end=\"\")\n",
    "\n",
    "    for k in range(0, i+1):\n",
    "        coff = int(fact(i)/(fact(k)*fact(i-k)))\n",
    "        print(\"  \", coff, end=\"\")\n",
    "    \n",
    "    print()"
   ]
  },
  {
   "cell_type": "code",
   "execution_count": 30,
   "metadata": {},
   "outputs": [
    {
     "name": "stdout",
     "output_type": "stream",
     "text": [
      "Enter the number of rows : 3\n",
      "       1\n",
      "     1   1\n",
      "   1   2   1\n"
     ]
    }
   ],
   "source": [
    "#Approach 2 Without using Factorial \n",
    "\n",
    "rows = int(input(\"Enter the number of rows : \"))\n",
    "for i in range(0, rows):\n",
    "    coff = 1\n",
    "    for j in range(1, rows-i):\n",
    "        print(\"  \", end=\"\")\n",
    "    \n",
    "    for k in range(0, i+1):\n",
    "        print(\"  \", coff, end=\"\")\n",
    "        coff = int(coff * (i - k) / (k + 1))\n",
    "    print()"
   ]
  },
  {
   "cell_type": "code",
   "execution_count": 32,
   "metadata": {},
   "outputs": [
    {
     "name": "stdout",
     "output_type": "stream",
     "text": [
      "-5.1463\n"
     ]
    }
   ],
   "source": [
    "#6. Python Program to find the sum of cosine series. [cos x = 1 – (x2 / 2 !) + (x4 / 4 !) – (x6 / 6 !) +…}\n",
    "\n",
    "import math \n",
    "  \n",
    "# Function to get the series \n",
    "def Series( x , n ): \n",
    "    sum = 1\n",
    "    term = 1\n",
    "    y = 2\n",
    "      \n",
    "    # Sum of n-1 terms starting from 2nd term \n",
    "    for i in range(1,n): \n",
    "        fct = 1\n",
    "        for j in range(1,y+1): \n",
    "            fct = fct * j \n",
    "          \n",
    "        term = term * (-1) \n",
    "        m = term * math.pow(x, y) / fct \n",
    "        sum = sum + m \n",
    "        y += 2\n",
    "      \n",
    "    return sum\n",
    "  \n",
    "# Driver Code \n",
    "x = 9\n",
    "n = 10\n",
    "print('%.4f'% Series(x, n)) "
   ]
  },
  {
   "cell_type": "code",
   "execution_count": 36,
   "metadata": {},
   "outputs": [
    {
     "name": "stdout",
     "output_type": "stream",
     "text": [
      "False\n"
     ]
    }
   ],
   "source": [
    "#7. Write a function to check whether the number entered by user is prime or not.\n",
    "\n",
    "def test_prime(n):\n",
    "    if (n==1):\n",
    "        return False\n",
    "    elif (n==2):\n",
    "        return True;\n",
    "    else:\n",
    "        for x in range(2,n):\n",
    "            if(n % x==0):\n",
    "                return False\n",
    "        return True             \n",
    "print(test_prime(9))\n"
   ]
  },
  {
   "cell_type": "code",
   "execution_count": null,
   "metadata": {},
   "outputs": [],
   "source": [
    "#8. Write a program to print Fibonacci series using functions.\n",
    "\n",
    "def fibonacci(n):\n",
    "    a = 0\n",
    "    b = 1\n",
    "    if n <= 0:\n",
    "        print(\"Incorrect input\")\n",
    "    elif n == 1:\n",
    "        return b\n",
    "    else:\n",
    "        for i in range(2,n):\n",
    "            c = a + b\n",
    "            a = b\n",
    "            b = c\n",
    "        return b\n",
    " \n",
    "# Driver Program\n",
    " \n",
    "print(fibonacci(9))\n",
    " "
   ]
  },
  {
   "cell_type": "code",
   "execution_count": null,
   "metadata": {},
   "outputs": [],
   "source": [
    "def Fibonacci(n):\n",
    "    if n<=0:\n",
    "        print(\"Incorrect input\")\n",
    "    # First Fibonacci number is 0\n",
    "    elif n==1:\n",
    "        return 0\n",
    "    # Second Fibonacci number is 1\n",
    "    elif n==2:\n",
    "        return 1\n",
    "    else:\n",
    "        return Fibonacci(n-1)+Fibonacci(n-2)"
   ]
  },
  {
   "cell_type": "code",
   "execution_count": null,
   "metadata": {},
   "outputs": [],
   "source": [
    "#9. Write a program to compute the factorial of a number using recursion.\n",
    "\n",
    "def factorial(n): \n",
    "      \n",
    "    # single line to find factorial \n",
    "    return 1 if (n==1 or n==0) else n * factorial(n - 1);  \n",
    "  \n",
    "# Driver Code \n",
    "num = 5; \n",
    "print(\"Factorial of\",num,\"is\", \n",
    "factorial(num)) \n",
    "\n"
   ]
  },
  {
   "cell_type": "code",
   "execution_count": null,
   "metadata": {},
   "outputs": [],
   "source": [
    "#10. Write a Python function to check whether a number is perfect or not.\n",
    "\n",
    "num = int(input(“Enter a number : “))\n",
    "sum = 0\n",
    "for i in range (1,num):\n",
    "if(num % i == 0):\n",
    "sum = sum + i\n",
    "if(sum == num):\n",
    "print(num,”is a perfect number”)\n",
    "else:\n",
    "print(num,”is not a perfect number”)\n"
   ]
  }
 ],
 "metadata": {
  "kernelspec": {
   "display_name": "Python 3",
   "language": "python",
   "name": "python3"
  },
  "language_info": {
   "codemirror_mode": {
    "name": "ipython",
    "version": 3
   },
   "file_extension": ".py",
   "mimetype": "text/x-python",
   "name": "python",
   "nbconvert_exporter": "python",
   "pygments_lexer": "ipython3",
   "version": "3.8.3"
  }
 },
 "nbformat": 4,
 "nbformat_minor": 4
}
