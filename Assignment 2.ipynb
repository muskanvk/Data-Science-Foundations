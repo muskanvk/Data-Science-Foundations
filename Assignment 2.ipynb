{
 "cells": [
  {
   "cell_type": "markdown",
   "metadata": {},
   "source": [
    "# PCS 110 Data Science Foundations Assignment 2"
   ]
  },
  {
   "cell_type": "raw",
   "metadata": {},
   "source": [
    " Name : Muskan Kumar                                                       Roll No : 802032027 "
   ]
  },
  {
   "cell_type": "code",
   "execution_count": 1,
   "metadata": {},
   "outputs": [
    {
     "name": "stdout",
     "output_type": "stream",
     "text": [
      "Enter a number: 101\n",
      "The number is Palindrome\n"
     ]
    }
   ],
   "source": [
    "#1. Python Program to check whether a given number is a palindrome.\n",
    "\n",
    "#Approach 1\n",
    "num=int(input(\"Enter a number: \")) #Taking input from the user\n",
    "var=num  \n",
    "c=0\n",
    "while(num>0):  #reversing the number\n",
    "    rem=num%10\n",
    "    c=c*10+rem\n",
    "    num=num//10\n",
    "if(var==c):   #comparing reversed number with the number itself\n",
    "    print(\"The number is Palindrome\")\n",
    "else:\n",
    "    print(\"Not a Palindrome\")\n"
   ]
  },
  {
   "cell_type": "code",
   "execution_count": 2,
   "metadata": {},
   "outputs": [
    {
     "name": "stdout",
     "output_type": "stream",
     "text": [
      "Enter the number: 12321\n",
      "The number is a Palindrome\n"
     ]
    }
   ],
   "source": [
    "#Approach 2 \n",
    "num = input(\"Enter the number: \")\n",
    "if (num == num[::-1]): #comparing string indices\n",
    "    print(\"The number is a Palindrome\")\n",
    "else:\n",
    "    print(\"Not a Palindrome\")"
   ]
  },
  {
   "cell_type": "code",
   "execution_count": 3,
   "metadata": {},
   "outputs": [
    {
     "name": "stdout",
     "output_type": "stream",
     "text": [
      "Enter an integer: 12\n",
      "Smallest divisor is: 2\n"
     ]
    }
   ],
   "source": [
    "#2. Python Program to find the smallest divisor of an integer\n",
    "\n",
    "#Approach 1\n",
    "\n",
    "n=int(input(\"Enter an integer: \"))\n",
    "a=[] \n",
    "for i in range(2,n+1): \n",
    "    if(n%i==0):  #Anything that divides the number will be a divisor\n",
    "        a.append(i)\n",
    "a.sort() #sorting the list\n",
    "print(\"Smallest divisor is:\",a[0]) #first element of the sortest list will be the smallest element "
   ]
  },
  {
   "cell_type": "code",
   "execution_count": 4,
   "metadata": {},
   "outputs": [
    {
     "name": "stdout",
     "output_type": "stream",
     "text": [
      "Enter a number : 24\n",
      "The smallest divisor for 24 is 2\n"
     ]
    }
   ],
   "source": [
    "#Approach 2\n",
    "\n",
    "num = int(input(\"Enter a number : \"))\n",
    "for i in range(2, num+1):\n",
    "    if (num % i == 0):\n",
    "        print (\"The smallest divisor for {} is {}\".format(num, i))\n",
    "        break"
   ]
  },
  {
   "cell_type": "code",
   "execution_count": 5,
   "metadata": {},
   "outputs": [
    {
     "name": "stdout",
     "output_type": "stream",
     "text": [
      "Enter an integer: 54\n",
      "The divisors of 54 are [2, 3, 6, 9, 18, 27, 54]\n"
     ]
    }
   ],
   "source": [
    "#3. Python Program to generate all the divisors of an integer.\n",
    "\n",
    "#Approach 1\n",
    "\n",
    "num=int(input(\"Enter an integer: \"))\n",
    "a=[] \n",
    "for i in range(2,num+1): \n",
    "    if(num%i==0):  #Anything that divides the number will be a divisor\n",
    "        a.append(i)\n",
    "print(\"The divisors of {} are\".format(num),a)\n"
   ]
  },
  {
   "cell_type": "code",
   "execution_count": 6,
   "metadata": {},
   "outputs": [
    {
     "name": "stdout",
     "output_type": "stream",
     "text": [
      "Enter the number:12345\n",
      "The new number formed: 55\n"
     ]
    }
   ],
   "source": [
    "#4. Python Program to form an integer that has the number of digits at the ten’s place and the least significant digit in the one’s place.\n",
    "n=int(input(\"Enter the number:\"))\n",
    "tmp=n\n",
    "k=0\n",
    "while(n>0):\n",
    "    k=k+1\n",
    "    n=n//10\n",
    "b=str(tmp)\n",
    "c=str(k)\n",
    "d=c+b[k-1]\n",
    "print(\"The new number formed:\",int(d))"
   ]
  },
  {
   "cell_type": "code",
   "execution_count": 7,
   "metadata": {},
   "outputs": [
    {
     "name": "stdout",
     "output_type": "stream",
     "text": [
      "Enter the number of rows : 4\n",
      "         1\n",
      "       1   1\n",
      "     1   2   1\n",
      "   1   3   3   1\n"
     ]
    }
   ],
   "source": [
    "#5. Python Program to print the pascal’s triangle for n number of rows given by the user.\n",
    "\n",
    "#Approach 1 using Recursion(factorial)\n",
    "\n",
    "def fact(n):\n",
    "    r=1\n",
    "    for c in range(1,n+1):\n",
    "        r = r*c\n",
    "    \n",
    "    return res\n",
    "\n",
    "rows = int(input(\"Enter the number of rows : \"))\n",
    "\n",
    "for i in range(0, rows):\n",
    "    for j in range(1, rows-i):\n",
    "        print(\"  \", end=\"\")\n",
    "\n",
    "    for k in range(0, i+1):\n",
    "        coff = int(fact(i)/(fact(k)*fact(i-k)))\n",
    "        print(\"  \", coff, end=\"\")\n",
    "    \n",
    "    print()"
   ]
  },
  {
   "cell_type": "code",
   "execution_count": 8,
   "metadata": {},
   "outputs": [
    {
     "name": "stdout",
     "output_type": "stream",
     "text": [
      "Enter the number of rows : 3\n",
      "       1\n",
      "     1   1\n",
      "   1   2   1\n"
     ]
    }
   ],
   "source": [
    "#Approach 2 Without using Factorial \n",
    "\n",
    "rows = int(input(\"Enter the number of rows : \"))\n",
    "for i in range(0, rows):\n",
    "    coff = 1\n",
    "    for j in range(1, rows-i):\n",
    "        print(\"  \", end=\"\")\n",
    "    \n",
    "    for k in range(0, i+1):\n",
    "        print(\"  \", coff, end=\"\")\n",
    "        coff = int(coff * (i - k) / (k + 1))\n",
    "    print()"
   ]
  },
  {
   "cell_type": "code",
   "execution_count": 9,
   "metadata": {},
   "outputs": [
    {
     "name": "stdout",
     "output_type": "stream",
     "text": [
      "Enter value of x: 2\n",
      "Enter value of n: 4\n",
      "-0.4222\n"
     ]
    }
   ],
   "source": [
    "#6. Python Program to find the sum of cosine series. [cos x = 1 – (x2 / 2 !) + (x4 / 4 !) – (x6 / 6 !) +…}\n",
    "\n",
    "import math \n",
    "  \n",
    "# Function to get the series \n",
    "def Series( x , n ): \n",
    "    sum = 1\n",
    "    term = 1\n",
    "    y = 2\n",
    "      \n",
    "    # Sum of n-1 terms starting from 2nd term \n",
    "    for i in range(1,n): \n",
    "        fct = 1\n",
    "        for j in range(1,y+1): \n",
    "            fct = fct * j \n",
    "          \n",
    "        term = term * (-1) \n",
    "        m = term * math.pow(x, y) / fct \n",
    "        sum = sum + m \n",
    "        y += 2\n",
    "      \n",
    "    return sum\n",
    "  \n",
    "# Driver Code \n",
    "x = int(input(\"Enter value of x: \"))\n",
    "n = int(input(\"Enter value of n: \"))\n",
    "print('%.4f'% Series(x, n)) "
   ]
  },
  {
   "cell_type": "code",
   "execution_count": 10,
   "metadata": {},
   "outputs": [
    {
     "name": "stdout",
     "output_type": "stream",
     "text": [
      "Enter value of n: 5\n",
      "True\n"
     ]
    }
   ],
   "source": [
    "#7. Write a function to check whether the number entered by user is prime or not.\n",
    "\n",
    "def test_prime(n):\n",
    "    if (n==1):\n",
    "        return False\n",
    "    elif (n==2):\n",
    "        return True;\n",
    "    else:\n",
    "        for x in range(2,n):\n",
    "            if(n % x==0):\n",
    "                return False\n",
    "        return True  \n",
    "    \n",
    "n = int(input(\"Enter value of n: \"))\n",
    "print(test_prime(n))\n"
   ]
  },
  {
   "cell_type": "code",
   "execution_count": 11,
   "metadata": {},
   "outputs": [
    {
     "name": "stdout",
     "output_type": "stream",
     "text": [
      "Enter value of n: 10\n",
      "34\n"
     ]
    }
   ],
   "source": [
    "#8. Write a program to print Fibonacci series using functions.\n",
    "\n",
    "#Approach 1 : Without Recursion\n",
    "\n",
    "def fibonacci(n):\n",
    "    a = 0\n",
    "    b = 1\n",
    "    if n <= 0:\n",
    "        print(\"Incorrect input\")\n",
    "    elif n == 1:\n",
    "        return b\n",
    "    else:\n",
    "        for i in range(2,n):\n",
    "            c = a + b\n",
    "            a = b\n",
    "            b = c\n",
    "        return b\n",
    "   \n",
    "n = int(input(\"Enter value of n: \")) \n",
    "print(fibonacci(n))\n",
    " "
   ]
  },
  {
   "cell_type": "code",
   "execution_count": 12,
   "metadata": {},
   "outputs": [
    {
     "name": "stdout",
     "output_type": "stream",
     "text": [
      "Enter value of n: 10\n",
      "34\n"
     ]
    }
   ],
   "source": [
    "#Approach 2: using Recursion\n",
    "\n",
    "def Fibonacci(n):\n",
    "    if n<=0:\n",
    "        print(\"Incorrect input\")\n",
    "    # First Fibonacci number is 0\n",
    "    elif n==1:\n",
    "        return 0\n",
    "    # Second Fibonacci number is 1\n",
    "    elif n==2:\n",
    "        return 1\n",
    "    else:\n",
    "        return Fibonacci(n-1)+Fibonacci(n-2)\n",
    "    \n",
    "n = int(input(\"Enter value of n: \")) \n",
    "print(Fibonacci(n))"
   ]
  },
  {
   "cell_type": "code",
   "execution_count": 13,
   "metadata": {},
   "outputs": [
    {
     "name": "stdout",
     "output_type": "stream",
     "text": [
      "Enter value of number: 5\n",
      "Factorial of 5 is 120\n"
     ]
    }
   ],
   "source": [
    "#9. Write a program to compute the factorial of a number using recursion.\n",
    "\n",
    "def factorial(n): \n",
    "      \n",
    "    # finding factorial with recursion\n",
    "    return 1 if (n==1 or n==0) else n * factorial(n - 1);  \n",
    "  \n",
    "num = int(input(\"Enter value of number: \")) \n",
    "print(\"Factorial of\",num,\"is\", factorial(num))"
   ]
  },
  {
   "cell_type": "code",
   "execution_count": 14,
   "metadata": {},
   "outputs": [
    {
     "name": "stdout",
     "output_type": "stream",
     "text": [
      "Enter value of number: 21\n",
      "False\n"
     ]
    }
   ],
   "source": [
    "#10. Write a Python function to check whether a number is perfect or not.\n",
    "\n",
    "def perfect_number(n):\n",
    "    sum = 0\n",
    "    for x in range(1, n):\n",
    "        if n % x == 0:\n",
    "            sum += x\n",
    "    return sum == n\n",
    "n = int(input(\"Enter value of number: \"))\n",
    "print(perfect_number(n))"
   ]
  }
 ],
 "metadata": {
  "kernelspec": {
   "display_name": "Python 3",
   "language": "python",
   "name": "python3"
  },
  "language_info": {
   "codemirror_mode": {
    "name": "ipython",
    "version": 3
   },
   "file_extension": ".py",
   "mimetype": "text/x-python",
   "name": "python",
   "nbconvert_exporter": "python",
   "pygments_lexer": "ipython3",
   "version": "3.8.3"
  }
 },
 "nbformat": 4,
 "nbformat_minor": 4
}
