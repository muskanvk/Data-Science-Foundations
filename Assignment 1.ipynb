{
 "cells": [
  {
   "cell_type": "markdown",
   "metadata": {},
   "source": [
    "# PCS 110 Data Science Foundations Assignment"
   ]
  },
  {
   "cell_type": "raw",
   "metadata": {},
   "source": [
    "Name : Muskan Kumar                                                                                  Roll No : 802032027 "
   ]
  },
  {
   "cell_type": "code",
   "execution_count": 1,
   "metadata": {},
   "outputs": [
    {
     "name": "stdout",
     "output_type": "stream",
     "text": [
      "Enter value of first number: 10\n",
      "Enter value of second number: 2\n",
      "num1 is: 2  num2 is: 10\n"
     ]
    }
   ],
   "source": [
    "#1. Python Program to exchange the values of two numbers without using a temporary variable.\n",
    "#APPROACH 1(using built in function in python)\n",
    "\n",
    "num1=int(input(\"Enter value of first number: \"))   #Taking input from user\n",
    "num2=int(input(\"Enter value of second number: \"))\n",
    "num1,num2=num2,num1 #swapping\n",
    "print(\"num1 is:\",num1,\" num2 is:\",num2)"
   ]
  },
  {
   "cell_type": "code",
   "execution_count": 2,
   "metadata": {},
   "outputs": [
    {
     "name": "stdout",
     "output_type": "stream",
     "text": [
      "Enter value of first number: 10\n",
      "Enter value of second number: 2\n",
      "num1 is: 2  num2 is: 10\n"
     ]
    }
   ],
   "source": [
    "#APPROACH 2 (normal method)\n",
    "\n",
    "num1=int(input(\"Enter value of first number: \")) #Taking input from user\n",
    "num2=int(input(\"Enter value of second number: \"))\n",
    "num1=num1+num2\n",
    "num2=num1-num2\n",
    "num1=num1-num2\n",
    "print(\"num1 is:\",num1,\" num2 is:\",num2)"
   ]
  },
  {
   "cell_type": "code",
   "execution_count": 3,
   "metadata": {},
   "outputs": [
    {
     "name": "stdout",
     "output_type": "stream",
     "text": [
      "Enter the radius of the circle: 4\n",
      " Area of the circle is 50.24\n"
     ]
    }
   ],
   "source": [
    "#2. Python program to find the area of a circle.\n",
    "\n",
    "PI = 3.14 #declaring constant pi We can also use math library\n",
    "r = float(input(\"Enter the radius of the circle: \"))\n",
    "area = PI * r * r #calculate area\n",
    "print(\" Area of the circle is %.2f\" %area)\n"
   ]
  },
  {
   "cell_type": "code",
   "execution_count": 4,
   "metadata": {},
   "outputs": [
    {
     "name": "stdout",
     "output_type": "stream",
     "text": [
      "Input the value of the integer : 6\n",
      "258\n"
     ]
    }
   ],
   "source": [
    "#3. Python Program to read a number n and compute n + nn + nnn.\n",
    "\n",
    "n = int(input(\"Input the value of the integer : \")) \n",
    "n1 = n**2 \n",
    "n2 = n**3\n",
    "print (n+n1+n2)"
   ]
  },
  {
   "cell_type": "code",
   "execution_count": 5,
   "metadata": {},
   "outputs": [
    {
     "name": "stdout",
     "output_type": "stream",
     "text": [
      "Enter temperature in celsius: 32\n",
      "32.00 Celsius is: 89.60 Fahrenheit\n"
     ]
    }
   ],
   "source": [
    "#4. Python Program to convert temperature in Celsius to Fahrenheit.\n",
    "\n",
    "celsius = float(input(\"Enter temperature in celsius: \")) #taking input from user\n",
    "fahrenheit = (celsius * 9/5) + 32 #conversion\n",
    "print('%.2f Celsius is: %0.2f Fahrenheit' %(celsius, fahrenheit))"
   ]
  },
  {
   "cell_type": "code",
   "execution_count": 6,
   "metadata": {},
   "outputs": [
    {
     "name": "stdout",
     "output_type": "stream",
     "text": [
      "Enter the first number: 2\n",
      "Enter the second number: 8.8\n",
      "Enter the third number: 6.2\n",
      "The largest number is 8.8\n"
     ]
    }
   ],
   "source": [
    "#5. Python program to find the largest number among the three input numbers using the “and” operator.\n",
    "\n",
    "num1 = float(input(\"Enter the first number: \")) #Taking input from user\n",
    "num2 = float(input(\"Enter the second number: \"))\n",
    "num3 = float(input(\"Enter the third number: \"))\n",
    "if (num1 > num2) and (num1 > num3): #comparing a number with all the other numbers\n",
    "   largest = num1\n",
    "elif (num2 > num1) and (num2 > num3):\n",
    "   largest = num2\n",
    "else:\n",
    "   largest = num3\n",
    " \n",
    "print(\"The largest number is\",largest)\n"
   ]
  },
  {
   "cell_type": "code",
   "execution_count": 7,
   "metadata": {},
   "outputs": [
    {
     "name": "stdout",
     "output_type": "stream",
     "text": [
      "Enter the first number: 2.2\n",
      "Enter the second number: 3\n",
      "Enter the third number: 9.5\n",
      "62.7\n"
     ]
    }
   ],
   "source": [
    "'''6. Python program which will accept three numbers from user. If the numbers are different then print the sum of these numbers and if these three numbers are equal then print the multiplication of these numbers.\n",
    "[For example, If A= 1, B = 2, C = 3 then print 6; If A=2, B=2, C=2 then print 8]'''\n",
    "\n",
    "num1 = float(input(\"Enter the first number: \")) #Taking input from user\n",
    "num2 = float(input(\"Enter the second number: \"))\n",
    "num3 = float(input(\"Enter the third number: \"))\n",
    "if (num1==num2==num3):    \n",
    "    print(num1+num2+num3) #prints addition of three numbers\n",
    "else:\n",
    "    print(num1*num2*num3) #prints multiplication of three numbers"
   ]
  },
  {
   "cell_type": "code",
   "execution_count": 8,
   "metadata": {},
   "outputs": [
    {
     "name": "stdout",
     "output_type": "stream",
     "text": [
      "This**is**my**first**data**Science**Lab\n"
     ]
    }
   ],
   "source": [
    "'''7. Display “This is my first Data Science Lab” as “This**is**my**first**Data**science**lab” using output formatting of a print() function'''\n",
    "\n",
    "s = \"This{}is{}my{}first{}data{}Science{}Lab\"\n",
    "print(s.format(\"**\",\"**\",\"**\",\"**\",\"**\",\"**\"))"
   ]
  },
  {
   "cell_type": "code",
   "execution_count": 9,
   "metadata": {},
   "outputs": [
    {
     "name": "stdout",
     "output_type": "stream",
     "text": [
      "Please enter the Taxable Income: 65000\n",
      "Tax Payable =  15000.0\n"
     ]
    }
   ],
   "source": [
    "#8. Calculate income tax for the given income by adhering to the rules\n",
    "\n",
    "tax = 0\n",
    "inc = int(input(\"Please enter the Taxable Income: \"))\n",
    "if (inc <= 5000):\n",
    "    print(\"Tax Payable = 0\")\n",
    "    \n",
    "elif (inc > 5000) and (inc <= 15000):\n",
    "    tax = 0.1 * (inc-5000)\n",
    "    print(\"Tax Payable = \", tax)\n",
    "    \n",
    "elif (inc > 15000) and (inc <= 25000):\n",
    "    tax = 0.1 * (10000) + 0.2*(inc-15000)\n",
    "    print(\"Tax Payable = \", tax)\n",
    "\n",
    "else:\n",
    "    tax = ((0.1*10000) + (0.2*10000) + (0.3*(inc-25000)))\n",
    "    print(\"Tax Payable = \", tax)\n",
    "   "
   ]
  },
  {
   "cell_type": "code",
   "execution_count": 10,
   "metadata": {},
   "outputs": [
    {
     "name": "stdout",
     "output_type": "stream",
     "text": [
      "Myself Muskan and my Roll No. is 802032027. I am from CSE1 group\n",
      "Myself Muskan and my Roll No. is 802032027. I am from CSE1 group\n"
     ]
    }
   ],
   "source": [
    "#9. Display the following data using string.format() method as \"Myself John and my roll no is 123456. I am from CSE1 group\"\n",
    "s = \"Myself %s and my Roll No. is %d. I am from %s group\"\n",
    "print(s%(\"Muskan\", 802032027, \"CSE1\")) \n",
    "\n",
    "#Approach 2\n",
    "m = \"Myself {} and my Roll No. is {}. I am from {} group\"\n",
    "print(m.format(\"Muskan\", 802032027, \"CSE1\"))\n"
   ]
  },
  {
   "cell_type": "code",
   "execution_count": 11,
   "metadata": {},
   "outputs": [
    {
     "name": "stdout",
     "output_type": "stream",
     "text": [
      "Enter the user's speed: 80\n",
      "License suspended\n"
     ]
    }
   ],
   "source": [
    "'''10. Write a program for checking the speed of drivers. The program will accept the input speed from user and print the messages according to following conditions\n",
    " If speed is less than 70, it should print “Ok”.\n",
    " Otherwise, for every 5km above the speed limit (70), it should give the driver one demerit point and print the total number of demerit points. For example, if the speed is 80, it should print: “Points: 2”.\n",
    " If the driver gets more than 12 points, the function should print: “License suspended” '''\n",
    "\n",
    "def speed_rules(speed): #defining a function to compute speed\n",
    "    if speed <= 70:\n",
    "        print(\"OK\")\n",
    "\n",
    "    else:\n",
    "        points= (speed-70)//5 \n",
    "\n",
    "        if speed <= 12:\n",
    "            print(f\"Point: {points}\") #calculating demerit points\n",
    "\n",
    "        else:\n",
    "            print(\"License suspended\")\n",
    "\n",
    "\n",
    "speed = speed_rules(int(input(\"Enter the user's speed: \"))) #taking speed as input from user\n",
    "\n",
    "    "
   ]
  }
 ],
 "metadata": {
  "kernelspec": {
   "display_name": "Python 3",
   "language": "python",
   "name": "python3"
  },
  "language_info": {
   "codemirror_mode": {
    "name": "ipython",
    "version": 3
   },
   "file_extension": ".py",
   "mimetype": "text/x-python",
   "name": "python",
   "nbconvert_exporter": "python",
   "pygments_lexer": "ipython3",
   "version": "3.8.3"
  }
 },
 "nbformat": 4,
 "nbformat_minor": 4
}
